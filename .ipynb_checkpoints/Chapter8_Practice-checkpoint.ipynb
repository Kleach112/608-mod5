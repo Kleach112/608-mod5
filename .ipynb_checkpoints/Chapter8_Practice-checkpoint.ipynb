{
 "cells": [
  {
   "cell_type": "markdown",
   "id": "ad18dd82-d92c-4ece-a3eb-a49a01c4dff3",
   "metadata": {},
   "source": [
    "8.2.1 Formatting Strings - Presentation types: python assumes the value for a placeholder should be displayed as a tring unless another type is specified. "
   ]
  },
  {
   "cell_type": "code",
   "execution_count": 2,
   "id": "a0ac6cfe-d37a-4423-84ad-c6d4725a59e4",
   "metadata": {},
   "outputs": [
    {
     "data": {
      "text/plain": [
       "'17.49'"
      ]
     },
     "execution_count": 2,
     "metadata": {},
     "output_type": "execute_result"
    }
   ],
   "source": [
    "f'{17.489:.2f}' #python supports precision only for floating-point and decimal values. Formatting is type-dependent"
   ]
  },
  {
   "cell_type": "code",
   "execution_count": 3,
   "id": "32b65f15-2e5c-40df-b9a4-7fbd09d1e385",
   "metadata": {},
   "outputs": [
    {
     "data": {
      "text/plain": [
       "'10'"
      ]
     },
     "execution_count": 3,
     "metadata": {},
     "output_type": "execute_result"
    }
   ],
   "source": [
    "# integers: the d presentation type formats integer values as strings\n",
    "f'{10:d}'"
   ]
  },
  {
   "cell_type": "code",
   "execution_count": 6,
   "id": "3a8d6d74-ac95-449e-8f8f-a46f8dca31c3",
   "metadata": {},
   "outputs": [
    {
     "data": {
      "text/plain": [
       "'A a'"
      ]
     },
     "execution_count": 6,
     "metadata": {},
     "output_type": "execute_result"
    }
   ],
   "source": [
    "#characters: the c presentation type formats an integers character code as the corresponding character\n",
    "f'{65:c} {97:c}'"
   ]
  },
  {
   "cell_type": "code",
   "execution_count": 7,
   "id": "8a81a295-06af-4e0f-ae22-0945651e549c",
   "metadata": {},
   "outputs": [
    {
     "data": {
      "text/plain": [
       "'hello 7'"
      ]
     },
     "execution_count": 7,
     "metadata": {},
     "output_type": "execute_result"
    }
   ],
   "source": [
    "# strings: the s presentation type is the defaule, if you specify s the value to format must be a variable that references a string, an expression that produces a string or a string literal.\n",
    "# if a type is not specified, non-string values like the integer 7 are converted to strings\n",
    "# use \"\", cannot place single quotes inside a single quoted string\n",
    "\n",
    "f'{\"hello\":s} {7}'"
   ]
  },
  {
   "cell_type": "code",
   "execution_count": 11,
   "id": "c9059354-5eb0-42da-9534-b22b5c50cd77",
   "metadata": {},
   "outputs": [],
   "source": [
    "#floating-point and decimal values. Exponential notation can be used\n",
    "\n",
    "from decimal import Decimal"
   ]
  },
  {
   "cell_type": "code",
   "execution_count": 12,
   "id": "9aa2a8d9-a91c-4bef-90a9-4adda8f2a6ea",
   "metadata": {},
   "outputs": [
    {
     "data": {
      "text/plain": [
       "'10000000000000000000000.000'"
      ]
     },
     "execution_count": 12,
     "metadata": {},
     "output_type": "execute_result"
    }
   ],
   "source": [
    "f'{Decimal(\"10000000000000000000000.0\"):.3f}'"
   ]
  },
  {
   "cell_type": "code",
   "execution_count": 13,
   "id": "ec6bd48b-366a-4c90-a855-aea3ac326153",
   "metadata": {},
   "outputs": [
    {
     "data": {
      "text/plain": [
       "'1.000e+22'"
      ]
     },
     "execution_count": 13,
     "metadata": {},
     "output_type": "execute_result"
    }
   ],
   "source": [
    "f'{Decimal(\"10000000000000000000000.0\"):.3e}'"
   ]
  },
  {
   "cell_type": "code",
   "execution_count": 14,
   "id": "681a278a-dcd3-43a6-a031-e1ef07c7a6be",
   "metadata": {},
   "outputs": [
    {
     "name": "stdout",
     "output_type": "stream",
     "text": [
      " :-)\n"
     ]
    }
   ],
   "source": [
    "print(f' {58:c}{45:c}{41:c}')"
   ]
  },
  {
   "cell_type": "code",
   "execution_count": 18,
   "id": "aa8e557f-e895-45d6-963c-843d64367823",
   "metadata": {},
   "outputs": [
    {
     "name": "stdout",
     "output_type": "stream",
     "text": [
      "Kim Leach\n"
     ]
    }
   ],
   "source": [
    "print(f'Kim Leach')"
   ]
  },
  {
   "cell_type": "markdown",
   "id": "cdf4f742-9a09-43b6-9065-48dc28e95fee",
   "metadata": {},
   "source": [
    "8.2.2 Field widths and alignment: python righ-aligns numbers and left-aligns other values such as strings"
   ]
  },
  {
   "cell_type": "code",
   "execution_count": 19,
   "id": "582bd26c-6d99-4486-9ecf-a1a955339384",
   "metadata": {},
   "outputs": [
    {
     "data": {
      "text/plain": [
       "'[        27]'"
      ]
     },
     "execution_count": 19,
     "metadata": {},
     "output_type": "execute_result"
    }
   ],
   "source": [
    "f'[{27:10d}]'"
   ]
  },
  {
   "cell_type": "code",
   "execution_count": 20,
   "id": "67dd0dbe-753f-4fec-8393-a77cd8a5c6bf",
   "metadata": {},
   "outputs": [
    {
     "data": {
      "text/plain": [
       "'[  3.500000]'"
      ]
     },
     "execution_count": 20,
     "metadata": {},
     "output_type": "execute_result"
    }
   ],
   "source": [
    "f'[{3.5:10f}]'"
   ]
  },
  {
   "cell_type": "code",
   "execution_count": 21,
   "id": "50e238db-a43a-47c9-8da3-12bee79a2be4",
   "metadata": {},
   "outputs": [
    {
     "data": {
      "text/plain": [
       "'[hello     ]'"
      ]
     },
     "execution_count": 21,
     "metadata": {},
     "output_type": "execute_result"
    }
   ],
   "source": [
    "f'[{\"hello\":10}]'"
   ]
  },
  {
   "cell_type": "code",
   "execution_count": 22,
   "id": "12d06fef-9438-4edb-b00d-c84444638597",
   "metadata": {},
   "outputs": [
    {
     "data": {
      "text/plain": [
       "'[27             ]'"
      ]
     },
     "execution_count": 22,
     "metadata": {},
     "output_type": "execute_result"
    }
   ],
   "source": [
    "#explicitly specifying left and right alignment in a field\n",
    "f'[{27:<15d}]'"
   ]
  },
  {
   "cell_type": "code",
   "execution_count": 23,
   "id": "7c9b0fea-6972-4571-9ec2-1368e1e4066f",
   "metadata": {},
   "outputs": [
    {
     "data": {
      "text/plain": [
       "'[3.500000       ]'"
      ]
     },
     "execution_count": 23,
     "metadata": {},
     "output_type": "execute_result"
    }
   ],
   "source": [
    "f'[{3.5:<15f}]'"
   ]
  },
  {
   "cell_type": "code",
   "execution_count": 24,
   "id": "1e3931ce-0be2-4ab4-89e4-5514c9d64fb3",
   "metadata": {},
   "outputs": [
    {
     "data": {
      "text/plain": [
       "'[          hello]'"
      ]
     },
     "execution_count": 24,
     "metadata": {},
     "output_type": "execute_result"
    }
   ],
   "source": [
    "f'[{\"hello\":>15}]'"
   ]
  },
  {
   "cell_type": "code",
   "execution_count": 25,
   "id": "f456bd17-8e0d-4dea-9ee6-4547e22bf2b9",
   "metadata": {},
   "outputs": [
    {
     "data": {
      "text/plain": [
       "'[  27   ]'"
      ]
     },
     "execution_count": 25,
     "metadata": {},
     "output_type": "execute_result"
    }
   ],
   "source": [
    "# center values\n",
    "\n",
    "f'[{27:^7d}]'"
   ]
  },
  {
   "cell_type": "code",
   "execution_count": 26,
   "id": "e9e524e8-992a-45e1-bd89-70f64c89a030",
   "metadata": {},
   "outputs": [
    {
     "data": {
      "text/plain": [
       "'[  3.5  ]'"
      ]
     },
     "execution_count": 26,
     "metadata": {},
     "output_type": "execute_result"
    }
   ],
   "source": [
    "f'[{3.5:^7.1f}]'"
   ]
  },
  {
   "cell_type": "code",
   "execution_count": 28,
   "id": "1e6cd9c7-6eda-447b-adea-541ccd958cc3",
   "metadata": {},
   "outputs": [
    {
     "data": {
      "text/plain": [
       "'[ hello ]'"
      ]
     },
     "execution_count": 28,
     "metadata": {},
     "output_type": "execute_result"
    }
   ],
   "source": [
    "f'[{\"hello\":^7}]'"
   ]
  },
  {
   "cell_type": "code",
   "execution_count": 33,
   "id": "f180c78a-a05c-42bf-a826-79328960adbf",
   "metadata": {},
   "outputs": [
    {
     "name": "stdout",
     "output_type": "stream",
     "text": [
      "[       Kim]\n",
      "[ KimLeach ]\n",
      "[Leach     ]\n"
     ]
    }
   ],
   "source": [
    "print(f'[{\"Kim\":>10}]\\n[{\"KimLeach\":^10}]\\n[{\"Leach\":<10}]')"
   ]
  },
  {
   "cell_type": "markdown",
   "id": "038f417c-09db-4b07-b2c7-1077f87ef575",
   "metadata": {},
   "source": [
    "8.2.3 Numeric Formatting"
   ]
  },
  {
   "cell_type": "code",
   "execution_count": 34,
   "id": "05432bd3-08da-4b1d-a289-f9b73b3c5605",
   "metadata": {},
   "outputs": [
    {
     "data": {
      "text/plain": [
       "'[       +27]'"
      ]
     },
     "execution_count": 34,
     "metadata": {},
     "output_type": "execute_result"
    }
   ],
   "source": [
    "#formatting positive numbers with signs\n",
    "f'[{27:+10d}]'"
   ]
  },
  {
   "cell_type": "code",
   "execution_count": 35,
   "id": "2677da0b-ea60-49f9-9352-74ea8eae78a6",
   "metadata": {},
   "outputs": [
    {
     "data": {
      "text/plain": [
       "'[+000000027]'"
      ]
     },
     "execution_count": 35,
     "metadata": {},
     "output_type": "execute_result"
    }
   ],
   "source": [
    "f'[{27:+010d}]'"
   ]
  },
  {
   "cell_type": "code",
   "execution_count": 36,
   "id": "1be80a8e-d8eb-44d3-93d8-f9a2d64bfb20",
   "metadata": {},
   "outputs": [
    {
     "name": "stdout",
     "output_type": "stream",
     "text": [
      " 27\n",
      " 27\n",
      "-27\n"
     ]
    }
   ],
   "source": [
    "print(f'{27:3}\\n{27: d}\\n{-27: d}')"
   ]
  },
  {
   "cell_type": "code",
   "execution_count": 38,
   "id": "c53cd2cf-bd32-479e-a21b-aa31f3a2a7ba",
   "metadata": {},
   "outputs": [
    {
     "data": {
      "text/plain": [
       "'12,345,678'"
      ]
     },
     "execution_count": 38,
     "metadata": {},
     "output_type": "execute_result"
    }
   ],
   "source": [
    "#grouping digits, format with thousands separators by useing a comma:\n",
    "f'{12345678:,d}'"
   ]
  },
  {
   "cell_type": "code",
   "execution_count": 39,
   "id": "ab176089-07e9-4d83-a43d-6a5c30e661d5",
   "metadata": {},
   "outputs": [
    {
     "data": {
      "text/plain": [
       "'123,456.78'"
      ]
     },
     "execution_count": 39,
     "metadata": {},
     "output_type": "execute_result"
    }
   ],
   "source": [
    "f'{123456.78:,.2f}'"
   ]
  },
  {
   "cell_type": "code",
   "execution_count": 41,
   "id": "77eca268-1bb0-43c1-bafe-f62438659ce1",
   "metadata": {},
   "outputs": [
    {
     "name": "stdout",
     "output_type": "stream",
     "text": [
      "+10,240.47\n",
      " -3,210.95\n"
     ]
    }
   ],
   "source": [
    "print(f'{10240.473:+10,.2f}\\n{-3210.9521:+10,.2f}')"
   ]
  },
  {
   "cell_type": "markdown",
   "id": "62577bba-a655-4ae8-bc91-c5fab3825528",
   "metadata": {},
   "source": [
    "8.2.4 String's format method: "
   ]
  },
  {
   "cell_type": "code",
   "execution_count": 42,
   "id": "b64aebc8-b077-49d5-b081-a388ee844c05",
   "metadata": {},
   "outputs": [
    {
     "data": {
      "text/plain": [
       "'17.49'"
      ]
     },
     "execution_count": 42,
     "metadata": {},
     "output_type": "execute_result"
    }
   ],
   "source": [
    "'{:.2f}'.format(17.489)"
   ]
  },
  {
   "cell_type": "code",
   "execution_count": 43,
   "id": "c68fdcfa-39e8-4243-bbc2-b79219598525",
   "metadata": {},
   "outputs": [
    {
     "data": {
      "text/plain": [
       "'Kim Leach'"
      ]
     },
     "execution_count": 43,
     "metadata": {},
     "output_type": "execute_result"
    }
   ],
   "source": [
    "#multiple placeholders\n",
    "'{} {}'.format('Kim','Leach')"
   ]
  },
  {
   "cell_type": "code",
   "execution_count": 44,
   "id": "2c35b6d1-db40-466d-ae79-aa2bce2ef94b",
   "metadata": {},
   "outputs": [
    {
     "data": {
      "text/plain": [
       "'Happy Happy Birthday'"
      ]
     },
     "execution_count": 44,
     "metadata": {},
     "output_type": "execute_result"
    }
   ],
   "source": [
    "'{0} {0} {1}'.format('Happy', 'Birthday')"
   ]
  },
  {
   "cell_type": "code",
   "execution_count": 45,
   "id": "eb141472-0840-4af3-959e-edadc53552e0",
   "metadata": {},
   "outputs": [
    {
     "data": {
      "text/plain": [
       "'Kim Leach'"
      ]
     },
     "execution_count": 45,
     "metadata": {},
     "output_type": "execute_result"
    }
   ],
   "source": [
    "'{first} {last}'.format(first='Kim', last='Leach')"
   ]
  },
  {
   "cell_type": "code",
   "execution_count": 46,
   "id": "32a8fbe8-5a05-40ec-9e22-27113f75ed3e",
   "metadata": {},
   "outputs": [
    {
     "data": {
      "text/plain": [
       "'Leach Kim'"
      ]
     },
     "execution_count": 46,
     "metadata": {},
     "output_type": "execute_result"
    }
   ],
   "source": [
    "'{last} {first}'.format(first='Kim', last='Leach')"
   ]
  },
  {
   "cell_type": "code",
   "execution_count": 50,
   "id": "192d8176-7862-49ee-9771-4d1ff7418964",
   "metadata": {},
   "outputs": [
    {
     "name": "stdout",
     "output_type": "stream",
     "text": [
      ":-)\n"
     ]
    }
   ],
   "source": [
    "print('{:c}{:c}{:c}'.format(58, 45, 41))"
   ]
  },
  {
   "cell_type": "code",
   "execution_count": 51,
   "id": "e7980909-6d40-443f-b66b-5d7bf226cb1d",
   "metadata": {},
   "outputs": [
    {
     "name": "stdout",
     "output_type": "stream",
     "text": [
      "[       Kim]\n",
      "[   Kim    ]\n",
      "[Kim       ]\n"
     ]
    }
   ],
   "source": [
    "print('[{0:>10}]\\n[{0:^10}]\\n[{0:<10}]'.format('Kim'))"
   ]
  },
  {
   "cell_type": "code",
   "execution_count": 52,
   "id": "5c147e40-fbca-4982-a02f-a867900b5a6e",
   "metadata": {},
   "outputs": [
    {
     "name": "stdout",
     "output_type": "stream",
     "text": [
      "+10,240.47\n",
      " -3,210.95\n"
     ]
    }
   ],
   "source": [
    "print('{:+10,.2f}\\n{:+10,.2f}'.format(10240.473, -3210.9521))"
   ]
  },
  {
   "cell_type": "markdown",
   "id": "b00bc3b7-b0b2-4883-b4b9-1597965bce03",
   "metadata": {},
   "source": [
    "8.3 Concatenating and repeating strings"
   ]
  },
  {
   "cell_type": "code",
   "execution_count": 53,
   "id": "d9123d60-f9f9-420a-ade3-8f33a908af2e",
   "metadata": {},
   "outputs": [],
   "source": [
    "s1 = 'Kim'"
   ]
  },
  {
   "cell_type": "code",
   "execution_count": 54,
   "id": "399c7966-2d23-4b0f-9cc3-e1db6b9c7fd6",
   "metadata": {},
   "outputs": [],
   "source": [
    "s2 = 'Leach'"
   ]
  },
  {
   "cell_type": "code",
   "execution_count": 55,
   "id": "f46311d3-dbce-42a9-aee9-693cbbca4554",
   "metadata": {},
   "outputs": [],
   "source": [
    "s1 += ' ' + s2"
   ]
  },
  {
   "cell_type": "code",
   "execution_count": 56,
   "id": "65712292-6f40-45cc-a9fe-76f7116d76fc",
   "metadata": {},
   "outputs": [
    {
     "data": {
      "text/plain": [
       "'Kim Leach'"
      ]
     },
     "execution_count": 56,
     "metadata": {},
     "output_type": "execute_result"
    }
   ],
   "source": [
    "s1"
   ]
  },
  {
   "cell_type": "code",
   "execution_count": 57,
   "id": "ec1605ee-1923-4cd5-a00c-295c609cb35e",
   "metadata": {},
   "outputs": [],
   "source": [
    "symbol = '>'"
   ]
  },
  {
   "cell_type": "code",
   "execution_count": 58,
   "id": "b3fcf359-f95d-4262-8c4f-ffc064defd0b",
   "metadata": {},
   "outputs": [],
   "source": [
    "symbol *= 5"
   ]
  },
  {
   "cell_type": "code",
   "execution_count": 59,
   "id": "429de14a-745d-419e-9010-ec841a46f26b",
   "metadata": {},
   "outputs": [
    {
     "data": {
      "text/plain": [
       "'>>>>>'"
      ]
     },
     "execution_count": 59,
     "metadata": {},
     "output_type": "execute_result"
    }
   ],
   "source": [
    "symbol"
   ]
  },
  {
   "cell_type": "code",
   "execution_count": 60,
   "id": "007972de-d185-4892-b47c-a5784a349b2c",
   "metadata": {},
   "outputs": [],
   "source": [
    "name = 'Kim'"
   ]
  },
  {
   "cell_type": "code",
   "execution_count": 61,
   "id": "88a34ee5-8c54-4c7e-b00a-b32ed3b1631f",
   "metadata": {},
   "outputs": [],
   "source": [
    "name += ' Leach'"
   ]
  },
  {
   "cell_type": "code",
   "execution_count": 62,
   "id": "43c8788c-53de-4350-95fc-3b0d04f6bf4d",
   "metadata": {},
   "outputs": [],
   "source": [
    "bar = '*'"
   ]
  },
  {
   "cell_type": "code",
   "execution_count": 63,
   "id": "5250fc87-db66-4190-9aa2-ddc741ed2ea7",
   "metadata": {},
   "outputs": [],
   "source": [
    "bar *= len(name)"
   ]
  },
  {
   "cell_type": "code",
   "execution_count": 64,
   "id": "e32344e8-3463-49e7-a51f-997cc7283076",
   "metadata": {},
   "outputs": [
    {
     "name": "stdout",
     "output_type": "stream",
     "text": [
      "*********\n",
      "Kim Leach\n",
      "*********\n"
     ]
    }
   ],
   "source": [
    "print(f'{bar}\\n{name}\\n{bar}')"
   ]
  },
  {
   "cell_type": "markdown",
   "id": "64557c0e-2099-4e9a-8d1c-8af18ddc7cdd",
   "metadata": {},
   "source": [
    "8.4 Stripping whitespace from strings"
   ]
  },
  {
   "cell_type": "code",
   "execution_count": 65,
   "id": "eef91a1f-fbc5-4ad1-9ac3-2ebaf34f47bf",
   "metadata": {},
   "outputs": [],
   "source": [
    "# removing leading and trailing whitespace\n",
    "sentence = '\\t \\n This is a test string. \\t\\t \\n'"
   ]
  },
  {
   "cell_type": "code",
   "execution_count": 67,
   "id": "5290f7df-605a-429e-be2f-f22b3d922b04",
   "metadata": {},
   "outputs": [
    {
     "data": {
      "text/plain": [
       "'This is a test string.'"
      ]
     },
     "execution_count": 67,
     "metadata": {},
     "output_type": "execute_result"
    }
   ],
   "source": [
    "sentence.strip()"
   ]
  },
  {
   "cell_type": "code",
   "execution_count": 68,
   "id": "283e3609-ba69-4f48-bebf-f95a44afda71",
   "metadata": {},
   "outputs": [
    {
     "data": {
      "text/plain": [
       "'This is a test string. \\t\\t \\n'"
      ]
     },
     "execution_count": 68,
     "metadata": {},
     "output_type": "execute_result"
    }
   ],
   "source": [
    "# removing leading whitespace\n",
    "sentence.lstrip()"
   ]
  },
  {
   "cell_type": "code",
   "execution_count": 69,
   "id": "4bf4f7b6-a8cd-4655-bc5a-9155f3c01e99",
   "metadata": {},
   "outputs": [
    {
     "data": {
      "text/plain": [
       "'\\t \\n This is a test string.'"
      ]
     },
     "execution_count": 69,
     "metadata": {},
     "output_type": "execute_result"
    }
   ],
   "source": [
    "# removing trailing whitespace\n",
    "sentence.rstrip()"
   ]
  },
  {
   "cell_type": "code",
   "execution_count": 70,
   "id": "c293a577-6e08-4dca-955c-15d7e4ee0498",
   "metadata": {},
   "outputs": [
    {
     "data": {
      "text/plain": [
       "'Kim Leach'"
      ]
     },
     "execution_count": 70,
     "metadata": {},
     "output_type": "execute_result"
    }
   ],
   "source": [
    "name = '     Kim Leach     '\n",
    "name.strip()"
   ]
  },
  {
   "cell_type": "code",
   "execution_count": 71,
   "id": "ee37b4dc-4c1e-4d14-9770-39abddca6a6c",
   "metadata": {},
   "outputs": [
    {
     "data": {
      "text/plain": [
       "'     Kim Leach'"
      ]
     },
     "execution_count": 71,
     "metadata": {},
     "output_type": "execute_result"
    }
   ],
   "source": [
    "name.rstrip()"
   ]
  },
  {
   "cell_type": "code",
   "execution_count": 72,
   "id": "8c75040e-c70c-4f6f-8464-c68d7b826493",
   "metadata": {},
   "outputs": [
    {
     "data": {
      "text/plain": [
       "'Kim Leach     '"
      ]
     },
     "execution_count": 72,
     "metadata": {},
     "output_type": "execute_result"
    }
   ],
   "source": [
    "name.lstrip()"
   ]
  },
  {
   "cell_type": "markdown",
   "id": "24847e38-7343-4ec6-9579-26750b8be31a",
   "metadata": {},
   "source": [
    "8.5 Changing character case: previously used methods.lower and .upper to convert strings to all lower or uppercase letters. Can also use .capitalize and .title"
   ]
  },
  {
   "cell_type": "code",
   "execution_count": 73,
   "id": "5d18d356-0953-4ae5-98cb-f83bcf1372a5",
   "metadata": {},
   "outputs": [
    {
     "data": {
      "text/plain": [
       "'Kim leach'"
      ]
     },
     "execution_count": 73,
     "metadata": {},
     "output_type": "execute_result"
    }
   ],
   "source": [
    "'kim leach'.capitalize()"
   ]
  },
  {
   "cell_type": "code",
   "execution_count": 74,
   "id": "1089f5ce-5b0b-4a80-974b-f4dc36babc71",
   "metadata": {},
   "outputs": [
    {
     "data": {
      "text/plain": [
       "'Kim Leach'"
      ]
     },
     "execution_count": 74,
     "metadata": {},
     "output_type": "execute_result"
    }
   ],
   "source": [
    "'kim leach'.title()"
   ]
  },
  {
   "cell_type": "code",
   "execution_count": 77,
   "id": "f21073d1-f18a-4d07-858f-bdb9aad8dea3",
   "metadata": {},
   "outputs": [],
   "source": [
    "test_string = 'happy new year'"
   ]
  },
  {
   "cell_type": "code",
   "execution_count": 78,
   "id": "a6f5ddde-1eff-4168-8933-e12b22c61690",
   "metadata": {},
   "outputs": [
    {
     "data": {
      "text/plain": [
       "'Happy New Year'"
      ]
     },
     "execution_count": 78,
     "metadata": {},
     "output_type": "execute_result"
    }
   ],
   "source": [
    "test_string.title()"
   ]
  },
  {
   "cell_type": "code",
   "execution_count": 79,
   "id": "7898cac7-ab9e-4b8e-a3e2-2b01f31c56ea",
   "metadata": {},
   "outputs": [
    {
     "data": {
      "text/plain": [
       "'Happy new year'"
      ]
     },
     "execution_count": 79,
     "metadata": {},
     "output_type": "execute_result"
    }
   ],
   "source": [
    "test_string.capitalize()"
   ]
  },
  {
   "cell_type": "markdown",
   "id": "1dbd62da-9e0f-447d-8d20-2789e773b536",
   "metadata": {},
   "source": [
    "Comparison Operators for Strings: recall that strings are compared on their underlying integer numeric values so uppercase letters compare as less than lowercase letters. eg 'A' is 65 and 'a' is 97"
   ]
  },
  {
   "cell_type": "code",
   "execution_count": 80,
   "id": "e6add677-604a-4b8d-bd7b-cb9d7cd5d2ad",
   "metadata": {},
   "outputs": [
    {
     "name": "stdout",
     "output_type": "stream",
     "text": [
      "A: 65; a: 97\n"
     ]
    }
   ],
   "source": [
    "print(f'A: {ord(\"A\")}; a: {ord(\"a\")}')"
   ]
  },
  {
   "cell_type": "code",
   "execution_count": 81,
   "id": "f8005b4b-8bf8-472a-9fba-8aeee4573870",
   "metadata": {},
   "outputs": [
    {
     "data": {
      "text/plain": [
       "False"
      ]
     },
     "execution_count": 81,
     "metadata": {},
     "output_type": "execute_result"
    }
   ],
   "source": [
    "'Orange' == 'orange'"
   ]
  },
  {
   "cell_type": "code",
   "execution_count": 82,
   "id": "1b35ea5e-4da8-4412-ad22-68ce139d0a4b",
   "metadata": {},
   "outputs": [
    {
     "data": {
      "text/plain": [
       "True"
      ]
     },
     "execution_count": 82,
     "metadata": {},
     "output_type": "execute_result"
    }
   ],
   "source": [
    "'Orange' != 'orange'"
   ]
  },
  {
   "cell_type": "code",
   "execution_count": 83,
   "id": "9c99e6ea-c446-40c7-8765-56a7ab0c942f",
   "metadata": {},
   "outputs": [
    {
     "data": {
      "text/plain": [
       "True"
      ]
     },
     "execution_count": 83,
     "metadata": {},
     "output_type": "execute_result"
    }
   ],
   "source": [
    "'Orange' < 'orange'"
   ]
  },
  {
   "cell_type": "code",
   "execution_count": 84,
   "id": "61d811bb-ccba-4242-a9b7-7e8cad2ce360",
   "metadata": {},
   "outputs": [
    {
     "data": {
      "text/plain": [
       "True"
      ]
     },
     "execution_count": 84,
     "metadata": {},
     "output_type": "execute_result"
    }
   ],
   "source": [
    "'Orange' <= 'orange'"
   ]
  },
  {
   "cell_type": "code",
   "execution_count": 85,
   "id": "20899407-e748-4aed-8555-be2989b5128e",
   "metadata": {},
   "outputs": [
    {
     "data": {
      "text/plain": [
       "False"
      ]
     },
     "execution_count": 85,
     "metadata": {},
     "output_type": "execute_result"
    }
   ],
   "source": [
    "'Orange' > 'orange'"
   ]
  },
  {
   "cell_type": "code",
   "execution_count": 86,
   "id": "e0d7c25f-b1da-4381-b059-9957da189de6",
   "metadata": {},
   "outputs": [
    {
     "data": {
      "text/plain": [
       "False"
      ]
     },
     "execution_count": 86,
     "metadata": {},
     "output_type": "execute_result"
    }
   ],
   "source": [
    "'Orange' >= 'orange'"
   ]
  },
  {
   "cell_type": "markdown",
   "id": "228ac373-9438-4458-bc4f-2ba537e5c729",
   "metadata": {},
   "source": [
    "8.7 Searching for substrings: you can search in a string using one or more adjacent characters known as a substring to count the number of occurrences, determine whether a string contains a substring, or determine the index at which a substring resides in a string"
   ]
  },
  {
   "cell_type": "code",
   "execution_count": 87,
   "id": "6fe28a11-5ebe-42e4-ae0c-4c7e9f0af0f2",
   "metadata": {},
   "outputs": [],
   "source": [
    "#counting occurrences\n",
    "sentence = 'to be or not to be that is the question'"
   ]
  },
  {
   "cell_type": "code",
   "execution_count": 89,
   "id": "6540ab81-9106-4297-b9e6-6f344fbd66f0",
   "metadata": {},
   "outputs": [
    {
     "data": {
      "text/plain": [
       "2"
      ]
     },
     "execution_count": 89,
     "metadata": {},
     "output_type": "execute_result"
    }
   ],
   "source": [
    "sentence.count('to')"
   ]
  },
  {
   "cell_type": "code",
   "execution_count": 90,
   "id": "33d08790-e5ed-4f27-b66a-677e6ae4cd7a",
   "metadata": {},
   "outputs": [
    {
     "data": {
      "text/plain": [
       "1"
      ]
     },
     "execution_count": 90,
     "metadata": {},
     "output_type": "execute_result"
    }
   ],
   "source": [
    "sentence.count('to', 12)"
   ]
  },
  {
   "cell_type": "code",
   "execution_count": 91,
   "id": "405acb58-4bc6-4eb3-8a46-e68fee707ce9",
   "metadata": {},
   "outputs": [
    {
     "data": {
      "text/plain": [
       "1"
      ]
     },
     "execution_count": 91,
     "metadata": {},
     "output_type": "execute_result"
    }
   ],
   "source": [
    "sentence.count('that', 12, 25)"
   ]
  },
  {
   "cell_type": "code",
   "execution_count": 92,
   "id": "e5225e52-0c8b-47b5-bb6a-aebeac0bed6d",
   "metadata": {},
   "outputs": [
    {
     "data": {
      "text/plain": [
       "3"
      ]
     },
     "execution_count": 92,
     "metadata": {},
     "output_type": "execute_result"
    }
   ],
   "source": [
    "#locating a substring in a string\n",
    "sentence.index('be')"
   ]
  },
  {
   "cell_type": "code",
   "execution_count": 93,
   "id": "75fdb5bb-0459-49b7-9d5b-43c9cea171c8",
   "metadata": {},
   "outputs": [
    {
     "data": {
      "text/plain": [
       "16"
      ]
     },
     "execution_count": 93,
     "metadata": {},
     "output_type": "execute_result"
    }
   ],
   "source": [
    "#r.index returns the last index at which the substring is found\n",
    "sentence.rindex('be')"
   ]
  },
  {
   "cell_type": "code",
   "execution_count": 94,
   "id": "61e5fe35-adf0-47fb-86da-568599ec59af",
   "metadata": {},
   "outputs": [
    {
     "data": {
      "text/plain": [
       "True"
      ]
     },
     "execution_count": 94,
     "metadata": {},
     "output_type": "execute_result"
    }
   ],
   "source": [
    "# determining whether a string contains a substring\n",
    "'that' in sentence"
   ]
  },
  {
   "cell_type": "code",
   "execution_count": 95,
   "id": "f66045c6-2199-4e57-b8e1-ad98840572f8",
   "metadata": {},
   "outputs": [
    {
     "data": {
      "text/plain": [
       "False"
      ]
     },
     "execution_count": 95,
     "metadata": {},
     "output_type": "execute_result"
    }
   ],
   "source": [
    "'THAT' in sentence"
   ]
  },
  {
   "cell_type": "code",
   "execution_count": 96,
   "id": "8159122d-d96e-4a6b-9fdd-747c6df44668",
   "metadata": {},
   "outputs": [
    {
     "data": {
      "text/plain": [
       "True"
      ]
     },
     "execution_count": 96,
     "metadata": {},
     "output_type": "execute_result"
    }
   ],
   "source": [
    "'THAT' not in sentence"
   ]
  },
  {
   "cell_type": "code",
   "execution_count": 97,
   "id": "bed084b8-cd87-469e-be30-09f773692acc",
   "metadata": {},
   "outputs": [
    {
     "data": {
      "text/plain": [
       "True"
      ]
     },
     "execution_count": 97,
     "metadata": {},
     "output_type": "execute_result"
    }
   ],
   "source": [
    "# locating a substring at the beginning or end of a string using startswith ad endswith\n",
    "sentence.startswith('to')"
   ]
  },
  {
   "cell_type": "code",
   "execution_count": 98,
   "id": "86c9ce10-2f00-4201-b215-a4141d22de65",
   "metadata": {},
   "outputs": [
    {
     "data": {
      "text/plain": [
       "False"
      ]
     },
     "execution_count": 98,
     "metadata": {},
     "output_type": "execute_result"
    }
   ],
   "source": [
    "sentence.startswith('be')"
   ]
  },
  {
   "cell_type": "code",
   "execution_count": 99,
   "id": "a1b3eb0d-4ca2-491f-ae6c-ecf61e09c1bc",
   "metadata": {},
   "outputs": [
    {
     "data": {
      "text/plain": [
       "True"
      ]
     },
     "execution_count": 99,
     "metadata": {},
     "output_type": "execute_result"
    }
   ],
   "source": [
    "sentence.endswith('question')"
   ]
  },
  {
   "cell_type": "code",
   "execution_count": 100,
   "id": "191563af-7c5b-402c-aa50-d6a9db6ec4e2",
   "metadata": {},
   "outputs": [
    {
     "data": {
      "text/plain": [
       "False"
      ]
     },
     "execution_count": 100,
     "metadata": {},
     "output_type": "execute_result"
    }
   ],
   "source": [
    "sentence.endswith('quest')"
   ]
  },
  {
   "cell_type": "code",
   "execution_count": 101,
   "id": "cff4afb5-4721-45a2-aac3-e2fdcc797bdb",
   "metadata": {},
   "outputs": [
    {
     "name": "stdout",
     "output_type": "stream",
     "text": [
      "to to that the "
     ]
    }
   ],
   "source": [
    "for word in 'to be or not to be that is the question'.split():\n",
    "    if word.startswith('t'):\n",
    "        print(word, end=' ')"
   ]
  },
  {
   "cell_type": "markdown",
   "id": "ac14d219-4b6b-4db2-82c8-57a511a32cd3",
   "metadata": {},
   "source": [
    "8.8 replacing substrings"
   ]
  },
  {
   "cell_type": "code",
   "execution_count": 102,
   "id": "f7fba799-9ea9-4795-a843-e0a8c98e0672",
   "metadata": {},
   "outputs": [],
   "source": [
    "values = '1\\t2\\t3\\t4\\t5'"
   ]
  },
  {
   "cell_type": "code",
   "execution_count": 103,
   "id": "8c020636-853e-4d31-bf10-6210cdb09722",
   "metadata": {},
   "outputs": [
    {
     "data": {
      "text/plain": [
       "'1,2,3,4,5'"
      ]
     },
     "execution_count": 103,
     "metadata": {},
     "output_type": "execute_result"
    }
   ],
   "source": [
    "values.replace('\\t', ',')"
   ]
  },
  {
   "cell_type": "code",
   "execution_count": 104,
   "id": "2fb281e4-b4e9-4b32-8530-9997c347a195",
   "metadata": {},
   "outputs": [
    {
     "data": {
      "text/plain": [
       "'1 --> 2 --> 3 --> 4 --> 5'"
      ]
     },
     "execution_count": 104,
     "metadata": {},
     "output_type": "execute_result"
    }
   ],
   "source": [
    "'1 2 3 4 5'.replace(' ', ' --> ')"
   ]
  },
  {
   "cell_type": "markdown",
   "id": "bd63ff87-1f73-4e23-bae9-e4f120b8caa4",
   "metadata": {},
   "source": [
    "8.9 Splitting and Joining Strings"
   ]
  },
  {
   "cell_type": "code",
   "execution_count": 105,
   "id": "61dc263a-2389-4479-82d4-951d0ee54f6d",
   "metadata": {},
   "outputs": [],
   "source": [
    "# splitting strings\n",
    "letters = 'A, B, C, D'"
   ]
  },
  {
   "cell_type": "code",
   "execution_count": 107,
   "id": "6db5c69c-c97c-443c-b841-b25e0c86b70f",
   "metadata": {},
   "outputs": [
    {
     "data": {
      "text/plain": [
       "['A', 'B', 'C', 'D']"
      ]
     },
     "execution_count": 107,
     "metadata": {},
     "output_type": "execute_result"
    }
   ],
   "source": [
    "letters.split(', ') #.rsplit processes the max number of splits from the end of the string toward the beginning"
   ]
  },
  {
   "cell_type": "code",
   "execution_count": 108,
   "id": "d8a27ec0-0366-4f0d-8d25-e6504aaf1809",
   "metadata": {},
   "outputs": [],
   "source": [
    "# joining strings\n",
    "letters_list = ['A', 'B', 'C', 'D']"
   ]
  },
  {
   "cell_type": "code",
   "execution_count": 109,
   "id": "6c08544e-6584-4a81-b2d9-301850c6325a",
   "metadata": {},
   "outputs": [
    {
     "data": {
      "text/plain": [
       "'A,B,C,D'"
      ]
     },
     "execution_count": 109,
     "metadata": {},
     "output_type": "execute_result"
    }
   ],
   "source": [
    "','.join(letters_list)"
   ]
  },
  {
   "cell_type": "code",
   "execution_count": 110,
   "id": "0054e7ba-ecac-4908-9f3a-027e4359fa31",
   "metadata": {},
   "outputs": [
    {
     "data": {
      "text/plain": [
       "'0,1,2,3,4,5,6,7,8,9'"
      ]
     },
     "execution_count": 110,
     "metadata": {},
     "output_type": "execute_result"
    }
   ],
   "source": [
    "','.join([str(i) for i in range(10)])"
   ]
  },
  {
   "cell_type": "code",
   "execution_count": 113,
   "id": "30c63fc0-8b00-4785-9c7e-79b5e1347937",
   "metadata": {},
   "outputs": [
    {
     "data": {
      "text/plain": [
       "('Kim Leach', ': ', '89, 97, 92')"
      ]
     },
     "execution_count": 113,
     "metadata": {},
     "output_type": "execute_result"
    }
   ],
   "source": [
    "# string methods partition and rpartition\n",
    "'Kim Leach: 89, 97, 92'.partition(': ')"
   ]
  },
  {
   "cell_type": "code",
   "execution_count": 114,
   "id": "b1a0bf43-fcad-4947-b3bf-b11399dde7cd",
   "metadata": {},
   "outputs": [],
   "source": [
    "url = 'http://www.deitel.com/books/PyCDS/table_of_contents.html'"
   ]
  },
  {
   "cell_type": "code",
   "execution_count": 116,
   "id": "1b16b6db-735d-4b7c-af50-1012deb8af1d",
   "metadata": {},
   "outputs": [],
   "source": [
    "rest_of_url, separator, document = url.rpartition('/')"
   ]
  },
  {
   "cell_type": "code",
   "execution_count": 117,
   "id": "055ecc44-a109-41e9-b3de-bf5b749a4be5",
   "metadata": {},
   "outputs": [
    {
     "data": {
      "text/plain": [
       "'table_of_contents.html'"
      ]
     },
     "execution_count": 117,
     "metadata": {},
     "output_type": "execute_result"
    }
   ],
   "source": [
    "document"
   ]
  },
  {
   "cell_type": "code",
   "execution_count": 118,
   "id": "a566879e-abb2-4b8d-b802-1a0c168d5a4b",
   "metadata": {},
   "outputs": [
    {
     "data": {
      "text/plain": [
       "'http://www.deitel.com/books/PyCDS'"
      ]
     },
     "execution_count": 118,
     "metadata": {},
     "output_type": "execute_result"
    }
   ],
   "source": [
    "rest_of_url"
   ]
  },
  {
   "cell_type": "code",
   "execution_count": 119,
   "id": "44256abc-c504-4691-9c50-18e4da7ed894",
   "metadata": {},
   "outputs": [],
   "source": [
    "#string method splitlines\n",
    "lines = \"\"\"This is line 1\n",
    "    This is line2\n",
    "    This is line3\"\"\""
   ]
  },
  {
   "cell_type": "code",
   "execution_count": 120,
   "id": "114d59aa-668b-4354-ba37-0cfe7ee7c65d",
   "metadata": {},
   "outputs": [
    {
     "data": {
      "text/plain": [
       "'This is line 1\\n    This is line2\\n    This is line3'"
      ]
     },
     "execution_count": 120,
     "metadata": {},
     "output_type": "execute_result"
    }
   ],
   "source": [
    "lines"
   ]
  },
  {
   "cell_type": "code",
   "execution_count": 121,
   "id": "1a92d74c-9845-4bef-b42e-e935ed58438f",
   "metadata": {},
   "outputs": [
    {
     "data": {
      "text/plain": [
       "['This is line 1', '    This is line2', '    This is line3']"
      ]
     },
     "execution_count": 121,
     "metadata": {},
     "output_type": "execute_result"
    }
   ],
   "source": [
    "lines.splitlines()"
   ]
  },
  {
   "cell_type": "code",
   "execution_count": 122,
   "id": "ed94fcd5-141a-4300-b8f5-7ac56a62e8ed",
   "metadata": {},
   "outputs": [
    {
     "data": {
      "text/plain": [
       "['This is line 1\\n', '    This is line2\\n', '    This is line3']"
      ]
     },
     "execution_count": 122,
     "metadata": {},
     "output_type": "execute_result"
    }
   ],
   "source": [
    "lines.splitlines(True)"
   ]
  },
  {
   "cell_type": "code",
   "execution_count": 123,
   "id": "c84106a7-ac72-481f-a359-cf381a10debd",
   "metadata": {},
   "outputs": [
    {
     "data": {
      "text/plain": [
       "'Leach, Kim'"
      ]
     },
     "execution_count": 123,
     "metadata": {},
     "output_type": "execute_result"
    }
   ],
   "source": [
    "', '.join(reversed('Kim Leach'.split()))"
   ]
  },
  {
   "cell_type": "code",
   "execution_count": 124,
   "id": "0e36ce39-7889-4294-b382-6eb98b9d62a8",
   "metadata": {},
   "outputs": [],
   "source": [
    "url = 'http://www.deitel.com/books/PyCDS/table_of_contents.html'"
   ]
  },
  {
   "cell_type": "code",
   "execution_count": 125,
   "id": "5a068191-0ddc-48f5-9e67-81535be867d9",
   "metadata": {},
   "outputs": [],
   "source": [
    "protocol, separator, rest_of_url = url.partition('://')"
   ]
  },
  {
   "cell_type": "code",
   "execution_count": 126,
   "id": "7388c142-e863-4320-8029-2c2668f10cd9",
   "metadata": {},
   "outputs": [],
   "source": [
    "host, separator, document_with_path = rest_of_url.partition('/')"
   ]
  },
  {
   "cell_type": "code",
   "execution_count": 127,
   "id": "c3bf9389-2df9-46c9-b23d-fdacc1fcb780",
   "metadata": {},
   "outputs": [
    {
     "data": {
      "text/plain": [
       "'www.deitel.com'"
      ]
     },
     "execution_count": 127,
     "metadata": {},
     "output_type": "execute_result"
    }
   ],
   "source": [
    "host"
   ]
  },
  {
   "cell_type": "code",
   "execution_count": 128,
   "id": "77ffb86c-17a7-481e-90f7-7cbdb4073078",
   "metadata": {},
   "outputs": [],
   "source": [
    "path, separator, document = document_with_path.rpartition('/')"
   ]
  },
  {
   "cell_type": "code",
   "execution_count": 129,
   "id": "4a64ba33-2286-40c5-b543-413f18919fb3",
   "metadata": {},
   "outputs": [
    {
     "data": {
      "text/plain": [
       "'books/PyCDS'"
      ]
     },
     "execution_count": 129,
     "metadata": {},
     "output_type": "execute_result"
    }
   ],
   "source": [
    "path"
   ]
  },
  {
   "cell_type": "markdown",
   "id": "d757f3cf-f5ba-4cf9-be23-a562b58ab447",
   "metadata": {},
   "source": [
    "8.10 Characters and character-testing methods"
   ]
  },
  {
   "cell_type": "code",
   "execution_count": 130,
   "id": "d7bd3b51-1bf9-46c1-b7a5-3e3c6f34fdf2",
   "metadata": {},
   "outputs": [
    {
     "data": {
      "text/plain": [
       "False"
      ]
     },
     "execution_count": 130,
     "metadata": {},
     "output_type": "execute_result"
    }
   ],
   "source": [
    "'-27'.isdigit()"
   ]
  },
  {
   "cell_type": "code",
   "execution_count": 131,
   "id": "d2c62332-792e-492e-a190-b287869fcdf2",
   "metadata": {},
   "outputs": [
    {
     "data": {
      "text/plain": [
       "True"
      ]
     },
     "execution_count": 131,
     "metadata": {},
     "output_type": "execute_result"
    }
   ],
   "source": [
    "'27'.isdigit()"
   ]
  },
  {
   "cell_type": "code",
   "execution_count": 132,
   "id": "a11fe479-8418-4fef-948c-f8ac4ea5cff1",
   "metadata": {},
   "outputs": [
    {
     "data": {
      "text/plain": [
       "True"
      ]
     },
     "execution_count": 132,
     "metadata": {},
     "output_type": "execute_result"
    }
   ],
   "source": [
    "'A9876'.isalnum()"
   ]
  },
  {
   "cell_type": "code",
   "execution_count": 134,
   "id": "4e190d69-dde6-4e20-8d72-852bc3119492",
   "metadata": {},
   "outputs": [
    {
     "data": {
      "text/plain": [
       "False"
      ]
     },
     "execution_count": 134,
     "metadata": {},
     "output_type": "execute_result"
    }
   ],
   "source": [
    "'123 Main Street'.isalnum()"
   ]
  },
  {
   "cell_type": "markdown",
   "id": "10f435f2-112f-4980-9a5c-58b6a40020b9",
   "metadata": {},
   "source": [
    "8.11 Raw strings"
   ]
  },
  {
   "cell_type": "code",
   "execution_count": 140,
   "id": "4abf68fb-aa4c-4a2b-b300-2710d2b598bb",
   "metadata": {},
   "outputs": [],
   "source": [
    "file_path = 'C:\\\\MyFolder\\\\MySubFolder\\\\MyFile.txt'"
   ]
  },
  {
   "cell_type": "code",
   "execution_count": 137,
   "id": "c402f41f-e2bd-43b2-9194-3451296266bf",
   "metadata": {},
   "outputs": [
    {
     "data": {
      "text/plain": [
       "'C:\\\\MyFolder\\\\ySubFolder\\\\MyFile.txt'"
      ]
     },
     "execution_count": 137,
     "metadata": {},
     "output_type": "execute_result"
    }
   ],
   "source": [
    "file_path"
   ]
  },
  {
   "cell_type": "code",
   "execution_count": 141,
   "id": "bce1dd4d-6c1e-46c4-86f5-acb8d68135d4",
   "metadata": {},
   "outputs": [],
   "source": [
    "file_path = r'C:\\MyFolder\\MySubFolder\\MyFile.txt'"
   ]
  },
  {
   "cell_type": "code",
   "execution_count": 142,
   "id": "3306bf86-d418-4ac3-883a-161381c2238b",
   "metadata": {},
   "outputs": [
    {
     "data": {
      "text/plain": [
       "'C:\\\\MyFolder\\\\MySubFolder\\\\MyFile.txt'"
      ]
     },
     "execution_count": 142,
     "metadata": {},
     "output_type": "execute_result"
    }
   ],
   "source": [
    "file_path"
   ]
  },
  {
   "cell_type": "markdown",
   "id": "d4c9256a-72b7-4bb3-aaaf-2a40736b8ce9",
   "metadata": {},
   "source": [
    "8.12 Introduction to regular expressions"
   ]
  },
  {
   "cell_type": "markdown",
   "id": "224e32ec-3220-4500-a811-276454e791ea",
   "metadata": {},
   "source": [
    "8.12.1 re modlule and function fullmatch"
   ]
  },
  {
   "cell_type": "code",
   "execution_count": 143,
   "id": "aa70a8e5-df4d-4d28-8af6-e9d88ca10647",
   "metadata": {},
   "outputs": [],
   "source": [
    "import re"
   ]
  },
  {
   "cell_type": "code",
   "execution_count": 144,
   "id": "bb2ec5d2-6126-445e-97f4-834249ea6651",
   "metadata": {},
   "outputs": [],
   "source": [
    "pattern = '02215'"
   ]
  },
  {
   "cell_type": "code",
   "execution_count": 145,
   "id": "bcd5ca83-a525-445d-8e18-17de38d6e238",
   "metadata": {},
   "outputs": [
    {
     "data": {
      "text/plain": [
       "'Match'"
      ]
     },
     "execution_count": 145,
     "metadata": {},
     "output_type": "execute_result"
    }
   ],
   "source": [
    "'Match' if re.fullmatch(pattern, '02215') else 'No Match'"
   ]
  },
  {
   "cell_type": "code",
   "execution_count": 146,
   "id": "4e47d284-8906-42fc-9f9e-87dc766e41f0",
   "metadata": {},
   "outputs": [
    {
     "data": {
      "text/plain": [
       "'No Match'"
      ]
     },
     "execution_count": 146,
     "metadata": {},
     "output_type": "execute_result"
    }
   ],
   "source": [
    "'Match' if re.fullmatch(pattern, '51220') else 'No Match'"
   ]
  },
  {
   "cell_type": "code",
   "execution_count": 147,
   "id": "2017ac45-51d0-4b93-a997-b37913bc2bc1",
   "metadata": {},
   "outputs": [
    {
     "data": {
      "text/plain": [
       "'Valid'"
      ]
     },
     "execution_count": 147,
     "metadata": {},
     "output_type": "execute_result"
    }
   ],
   "source": [
    "#metacharacters, character classes and quantifiers\n",
    "'Valid' if re.fullmatch(r'\\d{5}', '02215') else 'Invalid'"
   ]
  },
  {
   "cell_type": "code",
   "execution_count": 148,
   "id": "1fdc4f14-5761-4366-ae68-ad7953d99f1d",
   "metadata": {},
   "outputs": [
    {
     "data": {
      "text/plain": [
       "'Invalid'"
      ]
     },
     "execution_count": 148,
     "metadata": {},
     "output_type": "execute_result"
    }
   ],
   "source": [
    "'Valid' if re.fullmatch(r'\\d{5}', '9876') else 'Invalid'"
   ]
  },
  {
   "cell_type": "code",
   "execution_count": 149,
   "id": "d175969f-16db-4e9b-bfd5-e8c54b5f2d1f",
   "metadata": {},
   "outputs": [
    {
     "data": {
      "text/plain": [
       "'Valid'"
      ]
     },
     "execution_count": 149,
     "metadata": {},
     "output_type": "execute_result"
    }
   ],
   "source": [
    "#custom character \n",
    "'Valid' if re.fullmatch('[A-Z][a-z]*', 'Wally') else 'Invalid'"
   ]
  },
  {
   "cell_type": "code",
   "execution_count": 150,
   "id": "b5e52462-7811-4d74-ada6-f7dee0fcfad2",
   "metadata": {},
   "outputs": [
    {
     "data": {
      "text/plain": [
       "'Invalid'"
      ]
     },
     "execution_count": 150,
     "metadata": {},
     "output_type": "execute_result"
    }
   ],
   "source": [
    "'Valid' if re.fullmatch('[A-Z][a-z]*', 'eva') else 'Invalid'"
   ]
  },
  {
   "cell_type": "code",
   "execution_count": 151,
   "id": "88844fee-b108-49f8-89ad-09a6eb086079",
   "metadata": {},
   "outputs": [
    {
     "data": {
      "text/plain": [
       "'Match'"
      ]
     },
     "execution_count": 151,
     "metadata": {},
     "output_type": "execute_result"
    }
   ],
   "source": [
    "'Match' if re.fullmatch('[^a-z]', 'A') else 'No match'"
   ]
  },
  {
   "cell_type": "code",
   "execution_count": 152,
   "id": "21a2f930-ff2f-452a-a0d7-e980a061df40",
   "metadata": {},
   "outputs": [
    {
     "data": {
      "text/plain": [
       "'No match'"
      ]
     },
     "execution_count": 152,
     "metadata": {},
     "output_type": "execute_result"
    }
   ],
   "source": [
    "'Match' if re.fullmatch('[^a-z]', 'a') else 'No match'"
   ]
  },
  {
   "cell_type": "code",
   "execution_count": 153,
   "id": "9d748d26-87a5-4a5a-9745-8c42ee28e701",
   "metadata": {},
   "outputs": [
    {
     "data": {
      "text/plain": [
       "'Match'"
      ]
     },
     "execution_count": 153,
     "metadata": {},
     "output_type": "execute_result"
    }
   ],
   "source": [
    "'Match' if re.fullmatch('[*+$]', '*') else 'No match'"
   ]
  },
  {
   "cell_type": "code",
   "execution_count": 154,
   "id": "ce6d805b-7071-4848-89a3-3dfaeb84a015",
   "metadata": {},
   "outputs": [
    {
     "data": {
      "text/plain": [
       "'No match'"
      ]
     },
     "execution_count": 154,
     "metadata": {},
     "output_type": "execute_result"
    }
   ],
   "source": [
    "'Match' if re.fullmatch('[*+$]', '!') else 'No match'"
   ]
  },
  {
   "cell_type": "code",
   "execution_count": 155,
   "id": "6b092360-ea5b-4ab4-8752-70c88631dc48",
   "metadata": {},
   "outputs": [
    {
     "data": {
      "text/plain": [
       "'Valid'"
      ]
     },
     "execution_count": 155,
     "metadata": {},
     "output_type": "execute_result"
    }
   ],
   "source": [
    "'Valid' if re.fullmatch('[A-Z][a-z]+', 'Wally') else 'Invalid'"
   ]
  },
  {
   "cell_type": "code",
   "execution_count": 156,
   "id": "6a6ca204-52b5-4e29-9d65-0604868167d8",
   "metadata": {},
   "outputs": [
    {
     "data": {
      "text/plain": [
       "'Invalid'"
      ]
     },
     "execution_count": 156,
     "metadata": {},
     "output_type": "execute_result"
    }
   ],
   "source": [
    "'Valid' if re.fullmatch('[A-Z][a-z]+', 'eva') else 'Invalid'"
   ]
  },
  {
   "cell_type": "code",
   "execution_count": 157,
   "id": "1bcf7b93-42eb-4e26-a1bb-fb7cce8e7bf5",
   "metadata": {},
   "outputs": [
    {
     "data": {
      "text/plain": [
       "'Match'"
      ]
     },
     "execution_count": 157,
     "metadata": {},
     "output_type": "execute_result"
    }
   ],
   "source": [
    "'Match' if re.fullmatch('labell?ed', 'labelled') else 'No match'"
   ]
  },
  {
   "cell_type": "code",
   "execution_count": 158,
   "id": "763d8681-b0ee-4cb0-af6c-598bd6cc2b85",
   "metadata": {},
   "outputs": [
    {
     "data": {
      "text/plain": [
       "'Match'"
      ]
     },
     "execution_count": 158,
     "metadata": {},
     "output_type": "execute_result"
    }
   ],
   "source": [
    "'Match' if re.fullmatch('labell?ed', 'labeled') else 'No match'"
   ]
  },
  {
   "cell_type": "code",
   "execution_count": 159,
   "id": "2d9e2d4b-cc46-4e46-b63c-010d9788caed",
   "metadata": {},
   "outputs": [
    {
     "data": {
      "text/plain": [
       "'No match'"
      ]
     },
     "execution_count": 159,
     "metadata": {},
     "output_type": "execute_result"
    }
   ],
   "source": [
    "'Match' if re.fullmatch('labell?ed', 'labellled') else 'No match'"
   ]
  },
  {
   "cell_type": "code",
   "execution_count": 160,
   "id": "ca51d7c1-ae35-4cff-9dcc-3373d8988603",
   "metadata": {},
   "outputs": [
    {
     "data": {
      "text/plain": [
       "'Match'"
      ]
     },
     "execution_count": 160,
     "metadata": {},
     "output_type": "execute_result"
    }
   ],
   "source": [
    "'Match' if re.fullmatch(r'\\d{3,}', '123') else 'No match'"
   ]
  },
  {
   "cell_type": "code",
   "execution_count": 161,
   "id": "4a7e2216-2dc6-46b0-b72f-5c9a7bf1771b",
   "metadata": {},
   "outputs": [
    {
     "data": {
      "text/plain": [
       "'Match'"
      ]
     },
     "execution_count": 161,
     "metadata": {},
     "output_type": "execute_result"
    }
   ],
   "source": [
    "'Match' if re.fullmatch(r'\\d{3,}', '1234567890') else 'No match'"
   ]
  },
  {
   "cell_type": "code",
   "execution_count": 162,
   "id": "511c501c-b87f-4cbe-b84f-762b67ed7391",
   "metadata": {},
   "outputs": [
    {
     "data": {
      "text/plain": [
       "'No match'"
      ]
     },
     "execution_count": 162,
     "metadata": {},
     "output_type": "execute_result"
    }
   ],
   "source": [
    "'Match' if re.fullmatch(r'\\d{3,}', '12') else 'No match'"
   ]
  },
  {
   "cell_type": "code",
   "execution_count": 163,
   "id": "f6d0e480-de1e-49e4-bce7-a5e9e8838336",
   "metadata": {},
   "outputs": [
    {
     "data": {
      "text/plain": [
       "'Match'"
      ]
     },
     "execution_count": 163,
     "metadata": {},
     "output_type": "execute_result"
    }
   ],
   "source": [
    "'Match' if re.fullmatch(r'\\d{3,6}', '123') else 'No match'"
   ]
  },
  {
   "cell_type": "code",
   "execution_count": 164,
   "id": "9aaf10b7-2486-43b2-9f17-7c4dacd079d2",
   "metadata": {},
   "outputs": [
    {
     "data": {
      "text/plain": [
       "'Match'"
      ]
     },
     "execution_count": 164,
     "metadata": {},
     "output_type": "execute_result"
    }
   ],
   "source": [
    "'Match' if re.fullmatch(r'\\d{3,6}', '123456') else 'No match'"
   ]
  },
  {
   "cell_type": "code",
   "execution_count": 165,
   "id": "9dd2a8cc-cc40-40eb-b630-598b0d08c931",
   "metadata": {},
   "outputs": [
    {
     "data": {
      "text/plain": [
       "'No match'"
      ]
     },
     "execution_count": 165,
     "metadata": {},
     "output_type": "execute_result"
    }
   ],
   "source": [
    "'Match' if re.fullmatch(r'\\d{3,6}', '1234567') else 'No match'"
   ]
  },
  {
   "cell_type": "code",
   "execution_count": 166,
   "id": "45e8af47-0370-4dc3-a1ad-246962442fe0",
   "metadata": {},
   "outputs": [
    {
     "data": {
      "text/plain": [
       "'No match'"
      ]
     },
     "execution_count": 166,
     "metadata": {},
     "output_type": "execute_result"
    }
   ],
   "source": [
    "'Match' if re.fullmatch(r'\\d{3,6}', '12') else 'No match'"
   ]
  },
  {
   "cell_type": "markdown",
   "id": "da46817a-94be-4cd9-b265-4af2523fd2ca",
   "metadata": {},
   "source": [
    "8.12.2 replacing substrings and splitting strings"
   ]
  },
  {
   "cell_type": "code",
   "execution_count": 167,
   "id": "19993bab-7557-47b4-b60c-db67734b33a4",
   "metadata": {},
   "outputs": [],
   "source": [
    "import re"
   ]
  },
  {
   "cell_type": "markdown",
   "id": "277ff167-8237-4d29-8691-bdcc82fba692",
   "metadata": {},
   "source": [
    "Three required arguments\n",
    "    the pattern to match (the tab character'\\t'\n",
    "    the replacement text (', ')\n",
    "    the string to be searched ('1\\t2\\t3\\t4')"
   ]
  },
  {
   "cell_type": "code",
   "execution_count": 169,
   "id": "32d264cb-5daa-4d2d-a95c-426fb3cb2546",
   "metadata": {},
   "outputs": [
    {
     "data": {
      "text/plain": [
       "'1, 2, 3, 4'"
      ]
     },
     "execution_count": 169,
     "metadata": {},
     "output_type": "execute_result"
    }
   ],
   "source": [
    "re.sub(r'\\t', ', ', '1\\t2\\t3\\t4')"
   ]
  },
  {
   "cell_type": "code",
   "execution_count": 170,
   "id": "e74d3ae4-74fc-4a72-8b59-49c4168d87b7",
   "metadata": {},
   "outputs": [
    {
     "data": {
      "text/plain": [
       "'1, 2, 3\\t4'"
      ]
     },
     "execution_count": 170,
     "metadata": {},
     "output_type": "execute_result"
    }
   ],
   "source": [
    "re.sub(r'\\t', ', ', '1\\t2\\t3\\t4', count=2)"
   ]
  },
  {
   "cell_type": "code",
   "execution_count": 171,
   "id": "f99d0b06-7590-4058-a7d4-a642048ab698",
   "metadata": {},
   "outputs": [
    {
     "data": {
      "text/plain": [
       "['1', '2', '3', '4', '5', '6', '7', '8']"
      ]
     },
     "execution_count": 171,
     "metadata": {},
     "output_type": "execute_result"
    }
   ],
   "source": [
    "# function split \n",
    "re.split(r',\\s*', '1, 2, 3,4,    5,6,7,8')"
   ]
  },
  {
   "cell_type": "code",
   "execution_count": 172,
   "id": "5fb6191d-6600-4a66-8ae8-7aaa5984d1a2",
   "metadata": {},
   "outputs": [
    {
     "data": {
      "text/plain": [
       "['1', '2', '3', '4,    5,6,7,8']"
      ]
     },
     "execution_count": 172,
     "metadata": {},
     "output_type": "execute_result"
    }
   ],
   "source": [
    "re.split(r',\\s*', '1, 2, 3,4,    5,6,7,8', maxsplit=3)"
   ]
  },
  {
   "cell_type": "code",
   "execution_count": 173,
   "id": "db16a711-b1fb-4c14-ab09-33f67c23b361",
   "metadata": {},
   "outputs": [
    {
     "data": {
      "text/plain": [
       "'A, B, C, D'"
      ]
     },
     "execution_count": 173,
     "metadata": {},
     "output_type": "execute_result"
    }
   ],
   "source": [
    "re.sub(r'\\t+', ', ', 'A\\tB\\tC\\tD')"
   ]
  },
  {
   "cell_type": "code",
   "execution_count": 174,
   "id": "327a8158-31c3-44e9-b35b-6e0b62ab8998",
   "metadata": {},
   "outputs": [
    {
     "data": {
      "text/plain": [
       "['123', 'Main', 'Street']"
      ]
     },
     "execution_count": 174,
     "metadata": {},
     "output_type": "execute_result"
    }
   ],
   "source": [
    "re.split('\\$+', '123$Main$$Street')"
   ]
  },
  {
   "cell_type": "markdown",
   "id": "c7a335d6-6c54-4c6d-95b8-e097fa7c7880",
   "metadata": {},
   "source": [
    "8.12.3 other search functions; accessing matches"
   ]
  },
  {
   "cell_type": "code",
   "execution_count": 175,
   "id": "3338ac94-0fda-43b8-813b-bbef968ae826",
   "metadata": {},
   "outputs": [
    {
     "data": {
      "text/plain": [
       "'Python'"
      ]
     },
     "execution_count": 175,
     "metadata": {},
     "output_type": "execute_result"
    }
   ],
   "source": [
    "#function search - finding the first match anywhere in a string\n",
    "result = re.search('Python', 'Python is fun')\n",
    "\n",
    "result.group() if result else 'not found'"
   ]
  },
  {
   "cell_type": "code",
   "execution_count": 178,
   "id": "8635fd18-4fd0-4ec1-ba39-490b4099dfdf",
   "metadata": {},
   "outputs": [
    {
     "data": {
      "text/plain": [
       "'not found'"
      ]
     },
     "execution_count": 178,
     "metadata": {},
     "output_type": "execute_result"
    }
   ],
   "source": [
    "result2 = re.search('fun!', 'Python is fun')\n",
    "result2.group() if result2 else 'not found'"
   ]
  },
  {
   "cell_type": "code",
   "execution_count": 179,
   "id": "90e37f5e-f91e-40f1-806a-1220ddd0f766",
   "metadata": {},
   "outputs": [
    {
     "data": {
      "text/plain": [
       "'KIM'"
      ]
     },
     "execution_count": 179,
     "metadata": {},
     "output_type": "execute_result"
    }
   ],
   "source": [
    "#ignoring case with the optional flags keyword argument\n",
    "result3 = re.search('Kim', 'KIM LEACH', flags=re.IGNORECASE)\n",
    "result3.group() if result3 else 'not found'"
   ]
  },
  {
   "cell_type": "code",
   "execution_count": 180,
   "id": "e7fdae99-7bd4-4b41-a19b-831ea5aafcaa",
   "metadata": {},
   "outputs": [
    {
     "data": {
      "text/plain": [
       "'Python'"
      ]
     },
     "execution_count": 180,
     "metadata": {},
     "output_type": "execute_result"
    }
   ],
   "source": [
    "#metacharacters that restrict matches to the beginning or end of a string\n",
    "result = re.search('^Python', 'Python is fun')\n",
    "result.group() if result else 'not found'"
   ]
  },
  {
   "cell_type": "code",
   "execution_count": 183,
   "id": "0714cae6-2b0f-4965-9189-22384eef407e",
   "metadata": {},
   "outputs": [
    {
     "data": {
      "text/plain": [
       "'not found'"
      ]
     },
     "execution_count": 183,
     "metadata": {},
     "output_type": "execute_result"
    }
   ],
   "source": [
    "result = re.search('^fun', 'Python is fun')\n",
    "result.group() if result else 'not found'"
   ]
  },
  {
   "cell_type": "code",
   "execution_count": 184,
   "id": "730ee413-0e59-4d63-b494-a6ec3043bb49",
   "metadata": {},
   "outputs": [
    {
     "data": {
      "text/plain": [
       "'not found'"
      ]
     },
     "execution_count": 184,
     "metadata": {},
     "output_type": "execute_result"
    }
   ],
   "source": [
    "result = re.search('Python$', 'Python is fun')\n",
    "result.group() if result else 'not found'"
   ]
  },
  {
   "cell_type": "code",
   "execution_count": 185,
   "id": "822d8992-a4d7-4fed-9e10-d53fdd9247b9",
   "metadata": {},
   "outputs": [
    {
     "data": {
      "text/plain": [
       "'fun'"
      ]
     },
     "execution_count": 185,
     "metadata": {},
     "output_type": "execute_result"
    }
   ],
   "source": [
    "result = re.search('fun$', 'Python is fun')\n",
    "result.group() if result else 'not found'"
   ]
  },
  {
   "cell_type": "code",
   "execution_count": 186,
   "id": "69e9b69f-0bfb-4750-935a-293fda45a6a1",
   "metadata": {},
   "outputs": [],
   "source": [
    "#function findall and finditer - finding all matches in a string\n",
    "contact = 'Kim Leach, Home: 555-555-1234, Work: 555-555-4321'"
   ]
  },
  {
   "cell_type": "code",
   "execution_count": 189,
   "id": "8e48cb66-b187-4ccb-ad45-55ac53ba1872",
   "metadata": {},
   "outputs": [
    {
     "data": {
      "text/plain": [
       "['555-555-1234', '555-555-4321']"
      ]
     },
     "execution_count": 189,
     "metadata": {},
     "output_type": "execute_result"
    }
   ],
   "source": [
    "re.findall(r'\\d{3}-\\d{3}-\\d{4}', contact)"
   ]
  },
  {
   "cell_type": "code",
   "execution_count": 190,
   "id": "e2349439-ba47-4940-8ad5-195d930819a0",
   "metadata": {},
   "outputs": [
    {
     "name": "stdout",
     "output_type": "stream",
     "text": [
      "555-555-1234\n",
      "555-555-4321\n"
     ]
    }
   ],
   "source": [
    "for phone in re.finditer(r'\\d{3}-\\d{3}-\\d{4}', contact):\n",
    "    print(phone.group())"
   ]
  },
  {
   "cell_type": "code",
   "execution_count": 192,
   "id": "4501e896-ab63-40ca-888f-5e82db8a4136",
   "metadata": {},
   "outputs": [],
   "source": [
    "#capturing substrings in a match\n",
    "text = 'Kim Leach, email: demo1@deitel.com'\n",
    "pattern = r'([A-Z][a-z]+ [A-Z][a-z]+), email: (\\w+@\\w+\\.\\w{3})'\n",
    "result = re.search(pattern, text)"
   ]
  },
  {
   "cell_type": "code",
   "execution_count": 193,
   "id": "48edd0df-0dec-4477-a616-7da8b3a90edc",
   "metadata": {},
   "outputs": [
    {
     "data": {
      "text/plain": [
       "('Kim Leach', 'demo1@deitel.com')"
      ]
     },
     "execution_count": 193,
     "metadata": {},
     "output_type": "execute_result"
    }
   ],
   "source": [
    "result.groups()"
   ]
  },
  {
   "cell_type": "code",
   "execution_count": 194,
   "id": "2c3b3d33-f741-4318-9033-7993d834ed72",
   "metadata": {},
   "outputs": [
    {
     "data": {
      "text/plain": [
       "'Kim Leach, email: demo1@deitel.com'"
      ]
     },
     "execution_count": 194,
     "metadata": {},
     "output_type": "execute_result"
    }
   ],
   "source": [
    "result.group()"
   ]
  },
  {
   "cell_type": "code",
   "execution_count": 195,
   "id": "7cdf7973-1414-45dc-9197-55a9350a7c56",
   "metadata": {},
   "outputs": [
    {
     "data": {
      "text/plain": [
       "'Kim Leach'"
      ]
     },
     "execution_count": 195,
     "metadata": {},
     "output_type": "execute_result"
    }
   ],
   "source": [
    "result.group(1)"
   ]
  },
  {
   "cell_type": "code",
   "execution_count": 196,
   "id": "f8c680fe-f280-4d53-ad28-98d7d5342cb1",
   "metadata": {},
   "outputs": [
    {
     "data": {
      "text/plain": [
       "'demo1@deitel.com'"
      ]
     },
     "execution_count": 196,
     "metadata": {},
     "output_type": "execute_result"
    }
   ],
   "source": [
    "result.group(2)"
   ]
  },
  {
   "cell_type": "code",
   "execution_count": 197,
   "id": "a0ce4d37-8c9a-4f40-920b-c8d7f9562200",
   "metadata": {},
   "outputs": [],
   "source": [
    "result = re.search(r'(\\d+) ([-+*/]) (\\d+)', '10 + 5')"
   ]
  },
  {
   "cell_type": "code",
   "execution_count": 198,
   "id": "b373db04-baa3-4ef2-8917-023939b7875a",
   "metadata": {},
   "outputs": [
    {
     "data": {
      "text/plain": [
       "('10', '+', '5')"
      ]
     },
     "execution_count": 198,
     "metadata": {},
     "output_type": "execute_result"
    }
   ],
   "source": [
    "result.groups()"
   ]
  },
  {
   "cell_type": "code",
   "execution_count": 200,
   "id": "9a4f3e9b-f92e-4de8-b502-63b5e996617f",
   "metadata": {},
   "outputs": [
    {
     "data": {
      "text/plain": [
       "'10'"
      ]
     },
     "execution_count": 200,
     "metadata": {},
     "output_type": "execute_result"
    }
   ],
   "source": [
    "result.group(1)"
   ]
  },
  {
   "cell_type": "code",
   "execution_count": 201,
   "id": "30da35d8-60cf-4bc3-aa68-7014b3906456",
   "metadata": {},
   "outputs": [
    {
     "data": {
      "text/plain": [
       "'+'"
      ]
     },
     "execution_count": 201,
     "metadata": {},
     "output_type": "execute_result"
    }
   ],
   "source": [
    "result.group(2)"
   ]
  },
  {
   "cell_type": "code",
   "execution_count": 202,
   "id": "d02ab9b1-9f68-4bd9-9df5-c12e246d97f2",
   "metadata": {},
   "outputs": [
    {
     "data": {
      "text/plain": [
       "'5'"
      ]
     },
     "execution_count": 202,
     "metadata": {},
     "output_type": "execute_result"
    }
   ],
   "source": [
    "result.group(3)"
   ]
  },
  {
   "cell_type": "markdown",
   "id": "0cbe3474-5781-47b5-9ae7-204451defc70",
   "metadata": {},
   "source": [
    "8.13 Intro to data science: pandas, regular expressions and data munging\n",
    "    * Preparing for data analysis is called data munging or data wrangling\n",
    "        * two of the most important stpes in data munging are data cleaning and transforming data"
   ]
  },
  {
   "cell_type": "code",
   "execution_count": 203,
   "id": "115c0c1c-12e2-4537-a7c2-1e1155003da7",
   "metadata": {},
   "outputs": [],
   "source": [
    "import pandas as pd"
   ]
  },
  {
   "cell_type": "code",
   "execution_count": 204,
   "id": "7a56cf4d-e62c-4f8f-b4d1-891c8c223968",
   "metadata": {},
   "outputs": [
    {
     "data": {
      "text/plain": [
       "Boston    02215\n",
       "Miami      3310\n",
       "dtype: object"
      ]
     },
     "execution_count": 204,
     "metadata": {},
     "output_type": "execute_result"
    }
   ],
   "source": [
    "zips = pd.Series({'Boston': '02215', 'Miami': '3310'})\n",
    "zips"
   ]
  },
  {
   "cell_type": "code",
   "execution_count": 205,
   "id": "7b69df34-6167-4766-b045-58dc22ab701e",
   "metadata": {},
   "outputs": [
    {
     "data": {
      "text/plain": [
       "Boston     True\n",
       "Miami     False\n",
       "dtype: bool"
      ]
     },
     "execution_count": 205,
     "metadata": {},
     "output_type": "execute_result"
    }
   ],
   "source": [
    "zips.str.match(r'\\d{5}')"
   ]
  },
  {
   "cell_type": "code",
   "execution_count": 208,
   "id": "0f8bfbe0-90a6-4745-8d9d-99f4d38d0a1f",
   "metadata": {},
   "outputs": [
    {
     "data": {
      "text/plain": [
       "0    Boston, MA 02215\n",
       "1     Miami, FL 33101\n",
       "dtype: object"
      ]
     },
     "execution_count": 208,
     "metadata": {},
     "output_type": "execute_result"
    }
   ],
   "source": [
    "cities = pd.Series(['Boston, MA 02215', 'Miami, FL 33101'])\n",
    "cities"
   ]
  },
  {
   "cell_type": "code",
   "execution_count": 209,
   "id": "116f665e-b8bc-4eab-bcd0-8ac772887a53",
   "metadata": {},
   "outputs": [
    {
     "data": {
      "text/plain": [
       "0    True\n",
       "1    True\n",
       "dtype: bool"
      ]
     },
     "execution_count": 209,
     "metadata": {},
     "output_type": "execute_result"
    }
   ],
   "source": [
    "cities.str.contains(r' [A-Z]{2} ')"
   ]
  },
  {
   "cell_type": "code",
   "execution_count": 210,
   "id": "a1853e46-e849-4179-9400-abe28ddd5b45",
   "metadata": {},
   "outputs": [
    {
     "data": {
      "text/plain": [
       "0    False\n",
       "1    False\n",
       "dtype: bool"
      ]
     },
     "execution_count": 210,
     "metadata": {},
     "output_type": "execute_result"
    }
   ],
   "source": [
    "cities.str.match(r' [A-Z]{2} ')"
   ]
  },
  {
   "cell_type": "code",
   "execution_count": 212,
   "id": "4a374187-74d0-4d54-88ec-f0ca88cd50b8",
   "metadata": {},
   "outputs": [],
   "source": [
    "# reformatting your data\n",
    "\n",
    "contacts = [['Kim Leach', 'demo1@deitel.com', '5555555555'], ['Sue Brown', 'demo2@deitel.com', '5555551234']]"
   ]
  },
  {
   "cell_type": "code",
   "execution_count": 213,
   "id": "03d6e1db-b2be-480e-8f8c-ed9d07e9fc06",
   "metadata": {},
   "outputs": [],
   "source": [
    "contactsdf = pd.DataFrame(contacts, \n",
    "                          columns = ['Name', 'Email', 'Phone'])"
   ]
  },
  {
   "cell_type": "code",
   "execution_count": 214,
   "id": "64cbae16-817c-4d71-b151-6dde718ffe1b",
   "metadata": {},
   "outputs": [
    {
     "data": {
      "text/html": [
       "<div>\n",
       "<style scoped>\n",
       "    .dataframe tbody tr th:only-of-type {\n",
       "        vertical-align: middle;\n",
       "    }\n",
       "\n",
       "    .dataframe tbody tr th {\n",
       "        vertical-align: top;\n",
       "    }\n",
       "\n",
       "    .dataframe thead th {\n",
       "        text-align: right;\n",
       "    }\n",
       "</style>\n",
       "<table border=\"1\" class=\"dataframe\">\n",
       "  <thead>\n",
       "    <tr style=\"text-align: right;\">\n",
       "      <th></th>\n",
       "      <th>Name</th>\n",
       "      <th>Email</th>\n",
       "      <th>Phone</th>\n",
       "    </tr>\n",
       "  </thead>\n",
       "  <tbody>\n",
       "    <tr>\n",
       "      <th>0</th>\n",
       "      <td>Kim Leach</td>\n",
       "      <td>demo1@deitel.com</td>\n",
       "      <td>5555555555</td>\n",
       "    </tr>\n",
       "    <tr>\n",
       "      <th>1</th>\n",
       "      <td>Sue Brown</td>\n",
       "      <td>demo2@deitel.com</td>\n",
       "      <td>5555551234</td>\n",
       "    </tr>\n",
       "  </tbody>\n",
       "</table>\n",
       "</div>"
      ],
      "text/plain": [
       "        Name             Email       Phone\n",
       "0  Kim Leach  demo1@deitel.com  5555555555\n",
       "1  Sue Brown  demo2@deitel.com  5555551234"
      ]
     },
     "execution_count": 214,
     "metadata": {},
     "output_type": "execute_result"
    }
   ],
   "source": [
    "contactsdf"
   ]
  },
  {
   "cell_type": "code",
   "execution_count": 215,
   "id": "4b06001f-982d-4acb-a3bd-b766ad782897",
   "metadata": {},
   "outputs": [],
   "source": [
    "def get_formatted_phone(value):\n",
    "    result = re.fullmatch(r'(\\d{3})(\\d{3})(\\d{4})', value)\n",
    "    return '-'.join(result.groups()) if result else value"
   ]
  },
  {
   "cell_type": "code",
   "execution_count": 216,
   "id": "296d3cff-8a7d-4fea-a686-8ba5926460fb",
   "metadata": {},
   "outputs": [],
   "source": [
    "formatted_phone = contactsdf['Phone'].map(get_formatted_phone)"
   ]
  },
  {
   "cell_type": "code",
   "execution_count": 217,
   "id": "b449dbd1-3762-4ca3-9a60-c97003c0aec4",
   "metadata": {},
   "outputs": [
    {
     "data": {
      "text/plain": [
       "0    555-555-5555\n",
       "1    555-555-1234\n",
       "Name: Phone, dtype: object"
      ]
     },
     "execution_count": 217,
     "metadata": {},
     "output_type": "execute_result"
    }
   ],
   "source": [
    "formatted_phone"
   ]
  },
  {
   "cell_type": "code",
   "execution_count": 218,
   "id": "63bc3424-aa70-4142-9bf0-f571deb88d66",
   "metadata": {},
   "outputs": [
    {
     "data": {
      "text/html": [
       "<div>\n",
       "<style scoped>\n",
       "    .dataframe tbody tr th:only-of-type {\n",
       "        vertical-align: middle;\n",
       "    }\n",
       "\n",
       "    .dataframe tbody tr th {\n",
       "        vertical-align: top;\n",
       "    }\n",
       "\n",
       "    .dataframe thead th {\n",
       "        text-align: right;\n",
       "    }\n",
       "</style>\n",
       "<table border=\"1\" class=\"dataframe\">\n",
       "  <thead>\n",
       "    <tr style=\"text-align: right;\">\n",
       "      <th></th>\n",
       "      <th>Name</th>\n",
       "      <th>Email</th>\n",
       "      <th>Phone</th>\n",
       "    </tr>\n",
       "  </thead>\n",
       "  <tbody>\n",
       "    <tr>\n",
       "      <th>0</th>\n",
       "      <td>Kim Leach</td>\n",
       "      <td>demo1@deitel.com</td>\n",
       "      <td>555-555-5555</td>\n",
       "    </tr>\n",
       "    <tr>\n",
       "      <th>1</th>\n",
       "      <td>Sue Brown</td>\n",
       "      <td>demo2@deitel.com</td>\n",
       "      <td>555-555-1234</td>\n",
       "    </tr>\n",
       "  </tbody>\n",
       "</table>\n",
       "</div>"
      ],
      "text/plain": [
       "        Name             Email         Phone\n",
       "0  Kim Leach  demo1@deitel.com  555-555-5555\n",
       "1  Sue Brown  demo2@deitel.com  555-555-1234"
      ]
     },
     "execution_count": 218,
     "metadata": {},
     "output_type": "execute_result"
    }
   ],
   "source": [
    "contactsdf['Phone'] = formatted_phone\n",
    "contactsdf"
   ]
  },
  {
   "cell_type": "code",
   "execution_count": null,
   "id": "c7baf1f4-52e0-457a-b259-07c784a28cf8",
   "metadata": {},
   "outputs": [],
   "source": [
    "def get_formatted_phone(value):\n",
    "    result = re.fullmatch(r'(\\d{3})(\\d{3})(\\d{4})', value)\n",
    "    return '-'.join(result.groups()) if result else value"
   ]
  },
  {
   "cell_type": "code",
   "execution_count": 219,
   "id": "717658c8-d621-4859-bbdc-fe1525d062c3",
   "metadata": {},
   "outputs": [],
   "source": [
    "contacts = [['Kim Leach', 'demo1@deitel.com', '5555555555'], ['Sue Brown', 'demo2@deitel.com', '5555551234']]"
   ]
  },
  {
   "cell_type": "code",
   "execution_count": 220,
   "id": "1228bb89-1e34-4bde-8dbb-8b15002e0660",
   "metadata": {},
   "outputs": [],
   "source": [
    "formatted_phone = contactsdf['Phone'].map(get_formatted_phone)"
   ]
  },
  {
   "cell_type": "code",
   "execution_count": 221,
   "id": "94f0a55d-e9ac-4c74-9b3f-168852acb4a1",
   "metadata": {},
   "outputs": [],
   "source": [
    "contactsdf = pd.DataFrame(contacts, \n",
    "                          columns = ['Name', 'Email', 'Phone'])"
   ]
  },
  {
   "cell_type": "code",
   "execution_count": 222,
   "id": "97d08ead-e937-49d7-b517-a76ec584dfe8",
   "metadata": {},
   "outputs": [
    {
     "data": {
      "text/html": [
       "<div>\n",
       "<style scoped>\n",
       "    .dataframe tbody tr th:only-of-type {\n",
       "        vertical-align: middle;\n",
       "    }\n",
       "\n",
       "    .dataframe tbody tr th {\n",
       "        vertical-align: top;\n",
       "    }\n",
       "\n",
       "    .dataframe thead th {\n",
       "        text-align: right;\n",
       "    }\n",
       "</style>\n",
       "<table border=\"1\" class=\"dataframe\">\n",
       "  <thead>\n",
       "    <tr style=\"text-align: right;\">\n",
       "      <th></th>\n",
       "      <th>Name</th>\n",
       "      <th>Email</th>\n",
       "      <th>Phone</th>\n",
       "    </tr>\n",
       "  </thead>\n",
       "  <tbody>\n",
       "    <tr>\n",
       "      <th>0</th>\n",
       "      <td>Kim Leach</td>\n",
       "      <td>demo1@deitel.com</td>\n",
       "      <td>5555555555</td>\n",
       "    </tr>\n",
       "    <tr>\n",
       "      <th>1</th>\n",
       "      <td>Sue Brown</td>\n",
       "      <td>demo2@deitel.com</td>\n",
       "      <td>5555551234</td>\n",
       "    </tr>\n",
       "  </tbody>\n",
       "</table>\n",
       "</div>"
      ],
      "text/plain": [
       "        Name             Email       Phone\n",
       "0  Kim Leach  demo1@deitel.com  5555555555\n",
       "1  Sue Brown  demo2@deitel.com  5555551234"
      ]
     },
     "execution_count": 222,
     "metadata": {},
     "output_type": "execute_result"
    }
   ],
   "source": [
    "contactsdf"
   ]
  },
  {
   "cell_type": "code",
   "execution_count": 223,
   "id": "664f26cf-b688-469d-a178-1723ab48b41d",
   "metadata": {},
   "outputs": [],
   "source": [
    "def get_formatted_phone(value):\n",
    "    result = re.fullmatch(r'(\\d{3})(\\d{3})(\\d{4})', value)\n",
    "    if result:\n",
    "        part1, part2, part3 = result.groups()\n",
    "        return '(' + part1 + ') ' + part2 + '-' + part3\n",
    "    else:\n",
    "        return value"
   ]
  },
  {
   "cell_type": "code",
   "execution_count": 224,
   "id": "44b41ec9-1bfd-492a-a6f6-ec454b5509ca",
   "metadata": {},
   "outputs": [
    {
     "data": {
      "text/html": [
       "<div>\n",
       "<style scoped>\n",
       "    .dataframe tbody tr th:only-of-type {\n",
       "        vertical-align: middle;\n",
       "    }\n",
       "\n",
       "    .dataframe tbody tr th {\n",
       "        vertical-align: top;\n",
       "    }\n",
       "\n",
       "    .dataframe thead th {\n",
       "        text-align: right;\n",
       "    }\n",
       "</style>\n",
       "<table border=\"1\" class=\"dataframe\">\n",
       "  <thead>\n",
       "    <tr style=\"text-align: right;\">\n",
       "      <th></th>\n",
       "      <th>Name</th>\n",
       "      <th>Email</th>\n",
       "      <th>Phone</th>\n",
       "    </tr>\n",
       "  </thead>\n",
       "  <tbody>\n",
       "    <tr>\n",
       "      <th>0</th>\n",
       "      <td>Kim Leach</td>\n",
       "      <td>demo1@deitel.com</td>\n",
       "      <td>(555) 555-5555</td>\n",
       "    </tr>\n",
       "    <tr>\n",
       "      <th>1</th>\n",
       "      <td>Sue Brown</td>\n",
       "      <td>demo2@deitel.com</td>\n",
       "      <td>(555) 555-1234</td>\n",
       "    </tr>\n",
       "  </tbody>\n",
       "</table>\n",
       "</div>"
      ],
      "text/plain": [
       "        Name             Email           Phone\n",
       "0  Kim Leach  demo1@deitel.com  (555) 555-5555\n",
       "1  Sue Brown  demo2@deitel.com  (555) 555-1234"
      ]
     },
     "execution_count": 224,
     "metadata": {},
     "output_type": "execute_result"
    }
   ],
   "source": [
    "contactsdf['Phone'] = contactsdf['Phone'].map(get_formatted_phone)\n",
    "contactsdf"
   ]
  },
  {
   "cell_type": "code",
   "execution_count": null,
   "id": "1c2f95d5-0aaf-487d-9851-66cd3e8dae78",
   "metadata": {},
   "outputs": [],
   "source": []
  }
 ],
 "metadata": {
  "kernelspec": {
   "display_name": "Python 3 (ipykernel)",
   "language": "python",
   "name": "python3"
  },
  "language_info": {
   "codemirror_mode": {
    "name": "ipython",
    "version": 3
   },
   "file_extension": ".py",
   "mimetype": "text/x-python",
   "name": "python",
   "nbconvert_exporter": "python",
   "pygments_lexer": "ipython3",
   "version": "3.9.12"
  }
 },
 "nbformat": 4,
 "nbformat_minor": 5
}
