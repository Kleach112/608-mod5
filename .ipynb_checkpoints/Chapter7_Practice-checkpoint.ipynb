{
 "cells": [
  {
   "cell_type": "code",
   "execution_count": 2,
   "id": "3a25a015-0ada-401d-9ec7-8a274753da9d",
   "metadata": {},
   "outputs": [],
   "source": [
    "import numpy as np"
   ]
  },
  {
   "cell_type": "markdown",
   "id": "ef7dd4d6-bcb0-4494-9cc0-84ce7cf0a088",
   "metadata": {},
   "source": [
    "7.2 Creating arrays from existing data: array function receives as an argument an array or other collection of elements and returns a new array containg the argment's elements"
   ]
  },
  {
   "cell_type": "code",
   "execution_count": 3,
   "id": "92b79936-fe43-403f-8ba2-7b60f3f5dc72",
   "metadata": {},
   "outputs": [],
   "source": [
    "numbers = np.array([2, 3, 5, 7, 11])"
   ]
  },
  {
   "cell_type": "code",
   "execution_count": 4,
   "id": "777c7f3a-1d8d-433e-bb96-d6c395e11bbe",
   "metadata": {},
   "outputs": [
    {
     "data": {
      "text/plain": [
       "numpy.ndarray"
      ]
     },
     "execution_count": 4,
     "metadata": {},
     "output_type": "execute_result"
    }
   ],
   "source": [
    "type(numbers)"
   ]
  },
  {
   "cell_type": "code",
   "execution_count": 5,
   "id": "317b1ca7-0833-4b10-a799-602b4f7ade64",
   "metadata": {},
   "outputs": [
    {
     "data": {
      "text/plain": [
       "array([ 2,  3,  5,  7, 11])"
      ]
     },
     "execution_count": 5,
     "metadata": {},
     "output_type": "execute_result"
    }
   ],
   "source": [
    "numbers"
   ]
  },
  {
   "cell_type": "code",
   "execution_count": 7,
   "id": "cd446df9-6e3f-4af7-98bf-c68bc2cfd82d",
   "metadata": {},
   "outputs": [
    {
     "data": {
      "text/plain": [
       "array([[1, 2, 3],\n",
       "       [4, 5, 6]])"
      ]
     },
     "execution_count": 7,
     "metadata": {},
     "output_type": "execute_result"
    }
   ],
   "source": [
    "#numpy auto-formats arrays, based on their umber of dimensions, aligning the columns within each row\n",
    "\n",
    "np.array([[1, 2, 3], [4, 5, 6]])"
   ]
  },
  {
   "cell_type": "code",
   "execution_count": 8,
   "id": "4ea9dfcf-93c7-4432-be20-9f1eac00161c",
   "metadata": {},
   "outputs": [
    {
     "data": {
      "text/plain": [
       "array([ 2,  4,  6,  8, 10, 12, 14, 16, 18, 20])"
      ]
     },
     "execution_count": 8,
     "metadata": {},
     "output_type": "execute_result"
    }
   ],
   "source": [
    "np.array([x for x in range(2, 21, 2)])"
   ]
  },
  {
   "cell_type": "code",
   "execution_count": 10,
   "id": "ce96e176-c66d-48f6-92cb-25412cd41869",
   "metadata": {},
   "outputs": [
    {
     "data": {
      "text/plain": [
       "array([[ 2,  4,  6,  8, 10],\n",
       "       [ 1,  3,  5,  7,  9]])"
      ]
     },
     "execution_count": 10,
     "metadata": {},
     "output_type": "execute_result"
    }
   ],
   "source": [
    "np.array([[x for x in range(2, 11, 2)], [x for x in range(1, 10, 2)]])"
   ]
  },
  {
   "cell_type": "markdown",
   "id": "30635afc-b74a-4154-a905-67e1ab78ce52",
   "metadata": {},
   "source": [
    "7.3 array attributes: an array object provides attributes that enable you to discover information about its structure and contents"
   ]
  },
  {
   "cell_type": "code",
   "execution_count": 11,
   "id": "1476c937-a851-4cf8-ad72-688744aab6c9",
   "metadata": {},
   "outputs": [
    {
     "data": {
      "text/plain": [
       "array([[1, 2, 3],\n",
       "       [4, 5, 6]])"
      ]
     },
     "execution_count": 11,
     "metadata": {},
     "output_type": "execute_result"
    }
   ],
   "source": [
    "integers = np.array([[1, 2, 3], [4, 5, 6]])\n",
    "integers"
   ]
  },
  {
   "cell_type": "code",
   "execution_count": 12,
   "id": "fb96d091-19d3-4e0b-9746-08b187849c05",
   "metadata": {},
   "outputs": [],
   "source": [
    "floats = np.array([0.0, 0.1, 0.2, 0.3, 0.4])"
   ]
  },
  {
   "cell_type": "code",
   "execution_count": 14,
   "id": "b8cc948b-9472-42c7-90c0-70d139e2e6c4",
   "metadata": {},
   "outputs": [
    {
     "data": {
      "text/plain": [
       "array([0. , 0.1, 0.2, 0.3, 0.4])"
      ]
     },
     "execution_count": 14,
     "metadata": {},
     "output_type": "execute_result"
    }
   ],
   "source": [
    "floats #numpy does not display training 0s to the right of the decimal point in floating point values"
   ]
  },
  {
   "cell_type": "code",
   "execution_count": 15,
   "id": "01240790-3657-4f4c-8348-08a3d2936586",
   "metadata": {},
   "outputs": [
    {
     "data": {
      "text/plain": [
       "dtype('int32')"
      ]
     },
     "execution_count": 15,
     "metadata": {},
     "output_type": "execute_result"
    }
   ],
   "source": [
    "# determine an array's element type\n",
    "integers.dtype"
   ]
  },
  {
   "cell_type": "code",
   "execution_count": 16,
   "id": "ef095d70-92b5-4d33-9b80-16727a47fce3",
   "metadata": {},
   "outputs": [
    {
     "data": {
      "text/plain": [
       "dtype('float64')"
      ]
     },
     "execution_count": 16,
     "metadata": {},
     "output_type": "execute_result"
    }
   ],
   "source": [
    "floats.dtype"
   ]
  },
  {
   "cell_type": "code",
   "execution_count": 18,
   "id": "52f8941e-ee62-4679-88a3-a16111317c90",
   "metadata": {},
   "outputs": [
    {
     "data": {
      "text/plain": [
       "2"
      ]
     },
     "execution_count": 18,
     "metadata": {},
     "output_type": "execute_result"
    }
   ],
   "source": [
    "#determining an array's dimensions; ndim contain's an array's number of dimensions; shape contains a tuple specifiying an array's dimensons\n",
    "\n",
    "integers.ndim"
   ]
  },
  {
   "cell_type": "code",
   "execution_count": 20,
   "id": "94f60797-ad97-4f9e-a169-9a00aa77809a",
   "metadata": {},
   "outputs": [
    {
     "data": {
      "text/plain": [
       "1"
      ]
     },
     "execution_count": 20,
     "metadata": {},
     "output_type": "execute_result"
    }
   ],
   "source": [
    "floats.ndim"
   ]
  },
  {
   "cell_type": "code",
   "execution_count": 23,
   "id": "a3177d57-4968-434c-aaa9-74abc9cd7b9e",
   "metadata": {},
   "outputs": [
    {
     "data": {
      "text/plain": [
       "(2, 3)"
      ]
     },
     "execution_count": 23,
     "metadata": {},
     "output_type": "execute_result"
    }
   ],
   "source": [
    "integers.shape #2 rows, 3 columns, 6 elements"
   ]
  },
  {
   "cell_type": "code",
   "execution_count": 24,
   "id": "dfcb6a0e-da22-495a-a88f-8004d655ad5b",
   "metadata": {},
   "outputs": [
    {
     "data": {
      "text/plain": [
       "(5,)"
      ]
     },
     "execution_count": 24,
     "metadata": {},
     "output_type": "execute_result"
    }
   ],
   "source": [
    "floats.shape #5 elements"
   ]
  },
  {
   "cell_type": "code",
   "execution_count": 25,
   "id": "c6be35ff-1425-406b-a3c7-5b31865e3b36",
   "metadata": {},
   "outputs": [
    {
     "data": {
      "text/plain": [
       "6"
      ]
     },
     "execution_count": 25,
     "metadata": {},
     "output_type": "execute_result"
    }
   ],
   "source": [
    "# determining an array's number of elements and element sizes with size and itemsize respectively\n",
    "\n",
    "integers.size"
   ]
  },
  {
   "cell_type": "code",
   "execution_count": 27,
   "id": "863db18f-7fbe-4a4b-b9a0-a10f2d8d6e0d",
   "metadata": {},
   "outputs": [
    {
     "data": {
      "text/plain": [
       "4"
      ]
     },
     "execution_count": 27,
     "metadata": {},
     "output_type": "execute_result"
    }
   ],
   "source": [
    "integers.itemsize # 4 if C compiler uses 32-bit ints"
   ]
  },
  {
   "cell_type": "code",
   "execution_count": 28,
   "id": "f34a52c8-ceb6-454e-8667-a47a95d5fcbf",
   "metadata": {},
   "outputs": [
    {
     "data": {
      "text/plain": [
       "5"
      ]
     },
     "execution_count": 28,
     "metadata": {},
     "output_type": "execute_result"
    }
   ],
   "source": [
    "floats.size"
   ]
  },
  {
   "cell_type": "code",
   "execution_count": 29,
   "id": "05e8067f-17bd-4f7c-baab-181c76a93517",
   "metadata": {},
   "outputs": [
    {
     "data": {
      "text/plain": [
       "8"
      ]
     },
     "execution_count": 29,
     "metadata": {},
     "output_type": "execute_result"
    }
   ],
   "source": [
    "floats.itemsize"
   ]
  },
  {
   "cell_type": "code",
   "execution_count": 31,
   "id": "938baf0b-2c3e-4408-a944-2d048cedd5f1",
   "metadata": {},
   "outputs": [
    {
     "name": "stdout",
     "output_type": "stream",
     "text": [
      "1 2 3 \n",
      "4 5 6 \n"
     ]
    }
   ],
   "source": [
    "# iterating through a multidimensional array's elements\n",
    "\n",
    "for row in integers:\n",
    "    for column in row:\n",
    "        print(column, end=' ')\n",
    "    print()"
   ]
  },
  {
   "cell_type": "code",
   "execution_count": 32,
   "id": "322cf2d5-1c58-49fa-ae15-3dc7a31164d7",
   "metadata": {},
   "outputs": [
    {
     "name": "stdout",
     "output_type": "stream",
     "text": [
      "1 2 3 4 5 6 "
     ]
    }
   ],
   "source": [
    "# you can iterate through a multidimensional array as if it were one-dimensional by using its flat attribute:\n",
    "\n",
    "for i in integers.flat:\n",
    "    print(i, end=' ')"
   ]
  },
  {
   "cell_type": "code",
   "execution_count": 39,
   "id": "cfee0e35-92e3-49e5-8bad-630d42331a67",
   "metadata": {},
   "outputs": [],
   "source": [
    "a = np.array([[x for x in range(2, 11, 2)], [x for x in range(1, 10, 2)]])"
   ]
  },
  {
   "cell_type": "code",
   "execution_count": 34,
   "id": "922593de-4980-4348-9f4b-d28f2942ef59",
   "metadata": {},
   "outputs": [
    {
     "data": {
      "text/plain": [
       "2"
      ]
     },
     "execution_count": 34,
     "metadata": {},
     "output_type": "execute_result"
    }
   ],
   "source": [
    "a.ndim"
   ]
  },
  {
   "cell_type": "code",
   "execution_count": 35,
   "id": "6b387d57-448e-4792-8238-8d4fb1a864f8",
   "metadata": {},
   "outputs": [
    {
     "data": {
      "text/plain": [
       "(2, 5)"
      ]
     },
     "execution_count": 35,
     "metadata": {},
     "output_type": "execute_result"
    }
   ],
   "source": [
    "a.shape"
   ]
  },
  {
   "cell_type": "markdown",
   "id": "e0f00832-83f1-48e9-8bb3-4bfb60a68089",
   "metadata": {},
   "source": [
    "7.4 filling arrays with specific values: numpy provides functions zeros, ones, and full for creating arrays containing 0s, 1s or a specified value. by default, zeros and ones create arrays containing float64 values\n",
    "    * First argument must be an integer or a tuple of integers specificying the desired dimensions\n",
    "    * For an integer, each function returns a one-dimensional array with the specified number of elements"
   ]
  },
  {
   "cell_type": "code",
   "execution_count": 40,
   "id": "208f6ef4-3792-47bb-b1ed-62a66dc955ae",
   "metadata": {},
   "outputs": [
    {
     "data": {
      "text/plain": [
       "array([0., 0., 0., 0., 0.])"
      ]
     },
     "execution_count": 40,
     "metadata": {},
     "output_type": "execute_result"
    }
   ],
   "source": [
    "np.zeros(5)"
   ]
  },
  {
   "cell_type": "code",
   "execution_count": 41,
   "id": "57b5b490-cf4b-4e79-ad34-171b9d74cc40",
   "metadata": {},
   "outputs": [
    {
     "data": {
      "text/plain": [
       "array([[1, 1, 1, 1],\n",
       "       [1, 1, 1, 1]])"
      ]
     },
     "execution_count": 41,
     "metadata": {},
     "output_type": "execute_result"
    }
   ],
   "source": [
    "np.ones((2,4), dtype=int)"
   ]
  },
  {
   "cell_type": "code",
   "execution_count": 43,
   "id": "11f9f7f5-f9e9-46bc-b51f-00487de414f1",
   "metadata": {},
   "outputs": [
    {
     "data": {
      "text/plain": [
       "array([[13, 13, 13, 13, 13],\n",
       "       [13, 13, 13, 13, 13],\n",
       "       [13, 13, 13, 13, 13]])"
      ]
     },
     "execution_count": 43,
     "metadata": {},
     "output_type": "execute_result"
    }
   ],
   "source": [
    "np.full((3,5), 13)"
   ]
  },
  {
   "cell_type": "markdown",
   "id": "64bc5ad0-4745-4b12-8476-e86352ed9b15",
   "metadata": {},
   "source": [
    "7.3 creating arrays from ranges: numpy provides functions for creating arrays from ranges"
   ]
  },
  {
   "cell_type": "code",
   "execution_count": 44,
   "id": "73b0ffa3-8c8b-4f60-a332-bacae7ab8677",
   "metadata": {},
   "outputs": [
    {
     "data": {
      "text/plain": [
       "array([0, 1, 2, 3, 4])"
      ]
     },
     "execution_count": 44,
     "metadata": {},
     "output_type": "execute_result"
    }
   ],
   "source": [
    "# creating integer ranges with arange; can create arrays by passing arguments, should always use arange because it's optimized for arrays\n",
    "np.arange(5)"
   ]
  },
  {
   "cell_type": "code",
   "execution_count": 46,
   "id": "dac7ee69-c904-42f1-b798-e3622673276e",
   "metadata": {},
   "outputs": [
    {
     "data": {
      "text/plain": [
       "array([5, 6, 7, 8, 9])"
      ]
     },
     "execution_count": 46,
     "metadata": {},
     "output_type": "execute_result"
    }
   ],
   "source": [
    "np.arange(5, 10)"
   ]
  },
  {
   "cell_type": "code",
   "execution_count": 47,
   "id": "b4aa939c-dcb0-4d01-9db7-09da8dffe5c0",
   "metadata": {},
   "outputs": [
    {
     "data": {
      "text/plain": [
       "array([10,  8,  6,  4,  2])"
      ]
     },
     "execution_count": 47,
     "metadata": {},
     "output_type": "execute_result"
    }
   ],
   "source": [
    "np.arange(10, 1, -2)"
   ]
  },
  {
   "cell_type": "code",
   "execution_count": 48,
   "id": "75f8814a-91ba-402e-8c0f-d64bbd72c17c",
   "metadata": {},
   "outputs": [
    {
     "data": {
      "text/plain": [
       "array([0.  , 0.25, 0.5 , 0.75, 1.  ])"
      ]
     },
     "execution_count": 48,
     "metadata": {},
     "output_type": "execute_result"
    }
   ],
   "source": [
    "# create floating-point ranges with linspace; produce evenly spaced floating-point ranges, first 2 arguments are start and end values, optional keyword argument num number of values to produce, 50 default\n",
    "\n",
    "np.linspace(0.0, 1.0, num=5)"
   ]
  },
  {
   "cell_type": "code",
   "execution_count": 50,
   "id": "998f0746-c388-4a37-b89d-6c78e72710ec",
   "metadata": {},
   "outputs": [
    {
     "data": {
      "text/plain": [
       "array([[ 1,  2,  3,  4,  5],\n",
       "       [ 6,  7,  8,  9, 10],\n",
       "       [11, 12, 13, 14, 15],\n",
       "       [16, 17, 18, 19, 20]])"
      ]
     },
     "execution_count": 50,
     "metadata": {},
     "output_type": "execute_result"
    }
   ],
   "source": [
    "#reshaping an array; create an array from a range, then use reshape to transform one-dimensional to multidimensional\n",
    "    # the new shape has to have the same number of elements as the original, 15 can be 3X5 or 5X3 but not 4X4\n",
    "np.arange(1, 21).reshape(4, 5)"
   ]
  },
  {
   "cell_type": "code",
   "execution_count": 52,
   "id": "33eb034e-77f9-4709-adfb-677ad1b6a2e6",
   "metadata": {},
   "outputs": [
    {
     "data": {
      "text/plain": [
       "array([[     1,      2,      3, ...,  24998,  24999,  25000],\n",
       "       [ 25001,  25002,  25003, ...,  49998,  49999,  50000],\n",
       "       [ 50001,  50002,  50003, ...,  74998,  74999,  75000],\n",
       "       [ 75001,  75002,  75003, ...,  99998,  99999, 100000]])"
      ]
     },
     "execution_count": 52,
     "metadata": {},
     "output_type": "execute_result"
    }
   ],
   "source": [
    "#displaying large arrays; the notation (...) represents missing data, middle rowls, columns or both are dropped if more than 1000 items\n",
    "\n",
    "np.arange(1, 100001).reshape(4, 25000)"
   ]
  },
  {
   "cell_type": "code",
   "execution_count": 54,
   "id": "e3fd7862-1e0e-4e3f-b4c9-973b4a5af19b",
   "metadata": {},
   "outputs": [
    {
     "data": {
      "text/plain": [
       "array([[     1,      2,      3, ...,    998,    999,   1000],\n",
       "       [  1001,   1002,   1003, ...,   1998,   1999,   2000],\n",
       "       [  2001,   2002,   2003, ...,   2998,   2999,   3000],\n",
       "       ...,\n",
       "       [ 97001,  97002,  97003, ...,  97998,  97999,  98000],\n",
       "       [ 98001,  98002,  98003, ...,  98998,  98999,  99000],\n",
       "       [ 99001,  99002,  99003, ...,  99998,  99999, 100000]])"
      ]
     },
     "execution_count": 54,
     "metadata": {},
     "output_type": "execute_result"
    }
   ],
   "source": [
    "np.arange(1, 100001).reshape(100, 1000)"
   ]
  },
  {
   "cell_type": "markdown",
   "id": "4589396c-1ea7-4737-84bf-74f464de518e",
   "metadata": {},
   "source": [
    "7.6 list v array performance, introducing %timeit\n",
    "    * Most array operations execute significantly faster than corresponding list operations\n",
    "    * %timeit magic command times the average duration of operations"
   ]
  },
  {
   "cell_type": "code",
   "execution_count": 57,
   "id": "b107d121-ff51-4787-8373-c5a9c6c3d800",
   "metadata": {},
   "outputs": [
    {
     "name": "stdout",
     "output_type": "stream",
     "text": [
      "4.6 s ± 83 ms per loop (mean ± std. dev. of 7 runs, 1 loop each)\n"
     ]
    }
   ],
   "source": [
    "#timing the creation of a list containing results of 6,000,000 die rolls\n",
    "\n",
    "import random\n",
    "\n",
    "%timeit rolls_list = \\\n",
    "    [random.randrange(1, 7) for i in range(0, 6_000_000)]"
   ]
  },
  {
   "cell_type": "code",
   "execution_count": 59,
   "id": "28992717-46ee-426a-877d-d7a9ec72a116",
   "metadata": {},
   "outputs": [
    {
     "name": "stdout",
     "output_type": "stream",
     "text": [
      "58.5 ms ± 291 µs per loop (mean ± std. dev. of 7 runs, 10 loops each)\n"
     ]
    }
   ],
   "source": [
    "#timing the creation of an array containing results of 6,000,000 die rolls\n",
    "\n",
    "%timeit rolls_array = np.random.randint(1, 7, 6_000_000)"
   ]
  },
  {
   "cell_type": "code",
   "execution_count": 60,
   "id": "ec40f386-411a-49e5-bf2c-653a117c918c",
   "metadata": {},
   "outputs": [
    {
     "name": "stdout",
     "output_type": "stream",
     "text": [
      "568 ms ± 5.41 ms per loop (mean ± std. dev. of 7 runs, 1 loop each)\n"
     ]
    }
   ],
   "source": [
    "%timeit rolls_array = np.random.randint(1, 7, 60_000_000)"
   ]
  },
  {
   "cell_type": "code",
   "execution_count": 61,
   "id": "fbdea5f5-5ead-4022-a0a9-4baa5d8db0da",
   "metadata": {},
   "outputs": [
    {
     "name": "stdout",
     "output_type": "stream",
     "text": [
      "5.67 s ± 9.82 ms per loop (mean ± std. dev. of 7 runs, 1 loop each)\n"
     ]
    }
   ],
   "source": [
    "%timeit rolls_array = np.random.randint(1, 7, 600_000_000)"
   ]
  },
  {
   "cell_type": "code",
   "execution_count": 62,
   "id": "e83db5ed-ea81-4ca9-858e-40ee5cfe0d23",
   "metadata": {},
   "outputs": [
    {
     "name": "stdout",
     "output_type": "stream",
     "text": [
      "61.3 ms ± 1.53 ms per loop (mean ± std. dev. of 2 runs, 3 loops each)\n"
     ]
    }
   ],
   "source": [
    "%timeit -n3 -r2 rolls_array = np.random.randint(1, 7, 6_000_000)"
   ]
  },
  {
   "cell_type": "markdown",
   "id": "4e68e4e5-c0c0-41d2-9412-537b78623a90",
   "metadata": {},
   "source": [
    "Other ipython magics:\n",
    "    %load to read code into ipython from a local file or URL\n",
    "    %save to save snippets to a file\n",
    "    %run to execute a .py file from ipython\n",
    "    %precision to change the defaul floating-point precision for ipython outputs\n",
    "    %cd to change directories without having to exit ipython first\n",
    "    %edit to launch an external editor - handy if you need to modify more complex snippets\n",
    "    %history to view a list of all snippets and commands you've executed in the current ipython session"
   ]
  },
  {
   "cell_type": "markdown",
   "id": "c4a5377a-a945-477c-91a3-537badcefc0b",
   "metadata": {},
   "source": [
    "7.7 array operators: numpy provides many operators for writing simple expressions that perform operations on entire arrays"
   ]
  },
  {
   "cell_type": "code",
   "execution_count": 63,
   "id": "5de163f6-c9be-4866-9dd7-d009aecaa2a2",
   "metadata": {},
   "outputs": [],
   "source": [
    "# arithmetic operations with arrays and individual numeric values\n",
    "# element-wise operations are applied to every element, each returns a new array\n",
    "\n",
    "numbers = np.arange(1,6)"
   ]
  },
  {
   "cell_type": "code",
   "execution_count": 64,
   "id": "fe8d5fc7-1d81-42f4-87e5-28666fa21fe9",
   "metadata": {},
   "outputs": [
    {
     "data": {
      "text/plain": [
       "array([ 2,  4,  6,  8, 10])"
      ]
     },
     "execution_count": 64,
     "metadata": {},
     "output_type": "execute_result"
    }
   ],
   "source": [
    "numbers * 2"
   ]
  },
  {
   "cell_type": "code",
   "execution_count": 65,
   "id": "ca9ac616-5790-4fd5-b324-61e592fef8a0",
   "metadata": {},
   "outputs": [
    {
     "data": {
      "text/plain": [
       "array([  1,   8,  27,  64, 125], dtype=int32)"
      ]
     },
     "execution_count": 65,
     "metadata": {},
     "output_type": "execute_result"
    }
   ],
   "source": [
    "numbers ** 3"
   ]
  },
  {
   "cell_type": "code",
   "execution_count": 66,
   "id": "4c3e43ac-0494-40d6-861f-423bb16c5e1c",
   "metadata": {},
   "outputs": [
    {
     "data": {
      "text/plain": [
       "array([1, 2, 3, 4, 5])"
      ]
     },
     "execution_count": 66,
     "metadata": {},
     "output_type": "execute_result"
    }
   ],
   "source": [
    "numbers"
   ]
  },
  {
   "cell_type": "code",
   "execution_count": 67,
   "id": "6ac6bed2-996c-488b-8d94-d9a9cacc7670",
   "metadata": {},
   "outputs": [],
   "source": [
    "numbers += 10"
   ]
  },
  {
   "cell_type": "code",
   "execution_count": 68,
   "id": "1beb0674-c6f3-4bf6-aa41-e01fcf1f318f",
   "metadata": {},
   "outputs": [
    {
     "data": {
      "text/plain": [
       "array([11, 12, 13, 14, 15])"
      ]
     },
     "execution_count": 68,
     "metadata": {},
     "output_type": "execute_result"
    }
   ],
   "source": [
    "numbers"
   ]
  },
  {
   "cell_type": "code",
   "execution_count": 69,
   "id": "cecf7bc6-757d-4ea5-a688-9dfe3d81c7f1",
   "metadata": {},
   "outputs": [
    {
     "data": {
      "text/plain": [
       "array([22, 24, 26, 28, 30])"
      ]
     },
     "execution_count": 69,
     "metadata": {},
     "output_type": "execute_result"
    }
   ],
   "source": [
    "#broadcasting - when one operand is a single value, called a scalar, numpy performs the element-wise calculations as if the scalar were an array of the same shape as the other operand, but with the scalar value in all its elements\n",
    "\n",
    "#snippet numbers * 2 is the equivelant of\n",
    "numbers * [2, 2, 2, 2, 2]"
   ]
  },
  {
   "cell_type": "code",
   "execution_count": 70,
   "id": "a93a9c7f-58d0-42ff-9c51-4855834691ce",
   "metadata": {},
   "outputs": [
    {
     "data": {
      "text/plain": [
       "array([1.1, 2.2, 3.3, 4.4, 5.5])"
      ]
     },
     "execution_count": 70,
     "metadata": {},
     "output_type": "execute_result"
    }
   ],
   "source": [
    "#arithmetic operations between arrays\n",
    "\n",
    "numbers2 = np.linspace(1.1, 5.5, 5)\n",
    "numbers2"
   ]
  },
  {
   "cell_type": "code",
   "execution_count": 71,
   "id": "5d5aab8f-8fd9-444c-98eb-3228ccd90379",
   "metadata": {},
   "outputs": [
    {
     "data": {
      "text/plain": [
       "array([12.1, 26.4, 42.9, 61.6, 82.5])"
      ]
     },
     "execution_count": 71,
     "metadata": {},
     "output_type": "execute_result"
    }
   ],
   "source": [
    "numbers * numbers2"
   ]
  },
  {
   "cell_type": "code",
   "execution_count": 72,
   "id": "ca68afe1-99bb-4901-80ba-0d599c72f4fd",
   "metadata": {},
   "outputs": [
    {
     "data": {
      "text/plain": [
       "array([11, 12, 13, 14, 15])"
      ]
     },
     "execution_count": 72,
     "metadata": {},
     "output_type": "execute_result"
    }
   ],
   "source": [
    "# comparing arrays\n",
    "numbers"
   ]
  },
  {
   "cell_type": "code",
   "execution_count": 73,
   "id": "8cd0301a-34cf-4d72-b852-d7cc8c677028",
   "metadata": {},
   "outputs": [
    {
     "data": {
      "text/plain": [
       "array([False, False,  True,  True,  True])"
      ]
     },
     "execution_count": 73,
     "metadata": {},
     "output_type": "execute_result"
    }
   ],
   "source": [
    "numbers>= 13"
   ]
  },
  {
   "cell_type": "code",
   "execution_count": 74,
   "id": "e4d5d8f4-4fed-4734-9495-68788cb0ea7a",
   "metadata": {},
   "outputs": [
    {
     "data": {
      "text/plain": [
       "array([1.1, 2.2, 3.3, 4.4, 5.5])"
      ]
     },
     "execution_count": 74,
     "metadata": {},
     "output_type": "execute_result"
    }
   ],
   "source": [
    "numbers2"
   ]
  },
  {
   "cell_type": "code",
   "execution_count": 75,
   "id": "0169ab7d-9f84-45be-986c-9a1ed6586a99",
   "metadata": {},
   "outputs": [
    {
     "data": {
      "text/plain": [
       "array([ True,  True,  True,  True,  True])"
      ]
     },
     "execution_count": 75,
     "metadata": {},
     "output_type": "execute_result"
    }
   ],
   "source": [
    "numbers2 < numbers"
   ]
  },
  {
   "cell_type": "code",
   "execution_count": 76,
   "id": "b2ac09c2-efe2-4ec8-a352-599e30efb96b",
   "metadata": {},
   "outputs": [
    {
     "data": {
      "text/plain": [
       "array([False, False, False, False, False])"
      ]
     },
     "execution_count": 76,
     "metadata": {},
     "output_type": "execute_result"
    }
   ],
   "source": [
    "numbers == numbers2"
   ]
  },
  {
   "cell_type": "code",
   "execution_count": 77,
   "id": "49924cb1-0d05-46aa-87bb-580319251e3b",
   "metadata": {},
   "outputs": [
    {
     "data": {
      "text/plain": [
       "array([ True,  True,  True,  True,  True])"
      ]
     },
     "execution_count": 77,
     "metadata": {},
     "output_type": "execute_result"
    }
   ],
   "source": [
    "numbers == numbers"
   ]
  },
  {
   "cell_type": "markdown",
   "id": "35fa8f91-9608-45be-a1e6-09421915ae5d",
   "metadata": {},
   "source": [
    "7.8 numpy calculation methods"
   ]
  },
  {
   "cell_type": "code",
   "execution_count": 78,
   "id": "cafee9d4-4b93-4e38-b07d-a924473e3877",
   "metadata": {},
   "outputs": [],
   "source": [
    "grades = np.array([[87, 96, 70], [100, 87, 90],\n",
    "                   [94, 77, 90], [100, 81, 82]])"
   ]
  },
  {
   "cell_type": "code",
   "execution_count": 79,
   "id": "bf31aca6-a621-40be-8bf1-3e8be427b871",
   "metadata": {},
   "outputs": [
    {
     "data": {
      "text/plain": [
       "array([[ 87,  96,  70],\n",
       "       [100,  87,  90],\n",
       "       [ 94,  77,  90],\n",
       "       [100,  81,  82]])"
      ]
     },
     "execution_count": 79,
     "metadata": {},
     "output_type": "execute_result"
    }
   ],
   "source": [
    "grades"
   ]
  },
  {
   "cell_type": "code",
   "execution_count": 80,
   "id": "57f910ab-c3c3-4e71-b157-4d8283008a50",
   "metadata": {},
   "outputs": [
    {
     "data": {
      "text/plain": [
       "1054"
      ]
     },
     "execution_count": 80,
     "metadata": {},
     "output_type": "execute_result"
    }
   ],
   "source": [
    "grades.sum()"
   ]
  },
  {
   "cell_type": "code",
   "execution_count": 81,
   "id": "d9e16680-5a8d-47ad-a5d8-bcc55f0b67d0",
   "metadata": {},
   "outputs": [
    {
     "data": {
      "text/plain": [
       "70"
      ]
     },
     "execution_count": 81,
     "metadata": {},
     "output_type": "execute_result"
    }
   ],
   "source": [
    "grades.min()"
   ]
  },
  {
   "cell_type": "code",
   "execution_count": 82,
   "id": "0aa1f3fd-2ad5-46a6-8543-24893930560f",
   "metadata": {},
   "outputs": [
    {
     "data": {
      "text/plain": [
       "100"
      ]
     },
     "execution_count": 82,
     "metadata": {},
     "output_type": "execute_result"
    }
   ],
   "source": [
    "grades.max()"
   ]
  },
  {
   "cell_type": "code",
   "execution_count": 83,
   "id": "defebb9a-595c-4ba0-be01-e5325251aca8",
   "metadata": {},
   "outputs": [
    {
     "data": {
      "text/plain": [
       "87.83333333333333"
      ]
     },
     "execution_count": 83,
     "metadata": {},
     "output_type": "execute_result"
    }
   ],
   "source": [
    "grades.mean()"
   ]
  },
  {
   "cell_type": "code",
   "execution_count": 84,
   "id": "df735169-47b6-443d-98cf-86389f52a40e",
   "metadata": {},
   "outputs": [
    {
     "data": {
      "text/plain": [
       "8.792357792739987"
      ]
     },
     "execution_count": 84,
     "metadata": {},
     "output_type": "execute_result"
    }
   ],
   "source": [
    "grades.std()"
   ]
  },
  {
   "cell_type": "code",
   "execution_count": 85,
   "id": "2a5bfa08-d631-438a-9b87-efae1207ff16",
   "metadata": {},
   "outputs": [
    {
     "data": {
      "text/plain": [
       "77.30555555555556"
      ]
     },
     "execution_count": 85,
     "metadata": {},
     "output_type": "execute_result"
    }
   ],
   "source": [
    "grades.var()"
   ]
  },
  {
   "cell_type": "code",
   "execution_count": 86,
   "id": "6ce37da6-d90f-4c90-9ca3-2a19a7ef2447",
   "metadata": {},
   "outputs": [
    {
     "data": {
      "text/plain": [
       "array([95.25, 85.25, 83.  ])"
      ]
     },
     "execution_count": 86,
     "metadata": {},
     "output_type": "execute_result"
    }
   ],
   "source": [
    "# calculations by row or column\n",
    "\n",
    "grades.mean(axis=0)"
   ]
  },
  {
   "cell_type": "markdown",
   "id": "96c59a9d-df51-4290-b1dd-deb16d03f264",
   "metadata": {},
   "source": [
    "the above is an average of each column, or each test as it's the first value of each row for the first result, second value of each row for the second, and third value of each row for the last."
   ]
  },
  {
   "cell_type": "code",
   "execution_count": 87,
   "id": "3932f2ae-d65e-4b4e-a67f-be214d3da781",
   "metadata": {},
   "outputs": [
    {
     "data": {
      "text/plain": [
       "array([84.33333333, 92.33333333, 87.        , 87.66666667])"
      ]
     },
     "execution_count": 87,
     "metadata": {},
     "output_type": "execute_result"
    }
   ],
   "source": [
    "# the following calculates average for each row instead of column\n",
    "grades.mean(axis=1)"
   ]
  },
  {
   "cell_type": "code",
   "execution_count": 89,
   "id": "2d9c86e1-a914-457c-a2fe-49aea774943d",
   "metadata": {},
   "outputs": [],
   "source": [
    "grades = np.random.randint(60, 101, 12).reshape(3, 4)"
   ]
  },
  {
   "cell_type": "code",
   "execution_count": 90,
   "id": "f7fcb996-10b6-4dfb-99f8-9af5eee42c2f",
   "metadata": {},
   "outputs": [
    {
     "data": {
      "text/plain": [
       "array([[71, 76, 74, 99],\n",
       "       [87, 70, 98, 69],\n",
       "       [86, 74, 86, 70]])"
      ]
     },
     "execution_count": 90,
     "metadata": {},
     "output_type": "execute_result"
    }
   ],
   "source": [
    "grades"
   ]
  },
  {
   "cell_type": "code",
   "execution_count": 92,
   "id": "83c04a9f-2dba-479f-9e34-3a4ae3a987a3",
   "metadata": {},
   "outputs": [
    {
     "data": {
      "text/plain": [
       "80.0"
      ]
     },
     "execution_count": 92,
     "metadata": {},
     "output_type": "execute_result"
    }
   ],
   "source": [
    "grades.mean() #Kim Leach - overall average"
   ]
  },
  {
   "cell_type": "code",
   "execution_count": 93,
   "id": "8df45a26-b615-4272-bb68-d1a16d92dff4",
   "metadata": {},
   "outputs": [
    {
     "data": {
      "text/plain": [
       "array([81.33333333, 73.33333333, 86.        , 79.33333333])"
      ]
     },
     "execution_count": 93,
     "metadata": {},
     "output_type": "execute_result"
    }
   ],
   "source": [
    "grades.mean(axis=0) #Kim Leach - column average"
   ]
  },
  {
   "cell_type": "code",
   "execution_count": null,
   "id": "7c86b376-8c26-4c7c-9d2c-8e06974beef8",
   "metadata": {},
   "outputs": [],
   "source": [
    "grades.mean(axis=1) #Kim Leach - row average"
   ]
  },
  {
   "cell_type": "markdown",
   "id": "7d870d63-1921-401d-9b8f-f9c0e0ba9901",
   "metadata": {},
   "source": [
    "7.9 universal functions - or ufuncs perform various element-wise operations\n",
    "    * each performs its task using one or two array or array-like arguments\n",
    "    * some are called using operators like + and *\n",
    "    * each returns a new array with the results"
   ]
  },
  {
   "cell_type": "code",
   "execution_count": 96,
   "id": "49589205-8b0b-4f37-b8c8-0b14ddb445e6",
   "metadata": {},
   "outputs": [],
   "source": [
    "numbers = np.array([1, 4, 9, 16, 25, 36])"
   ]
  },
  {
   "cell_type": "code",
   "execution_count": 97,
   "id": "db11b0d5-4a97-45a7-b2a9-59159ec2cfc5",
   "metadata": {},
   "outputs": [
    {
     "data": {
      "text/plain": [
       "array([1., 2., 3., 4., 5., 6.])"
      ]
     },
     "execution_count": 97,
     "metadata": {},
     "output_type": "execute_result"
    }
   ],
   "source": [
    "np.sqrt(numbers)"
   ]
  },
  {
   "cell_type": "code",
   "execution_count": 102,
   "id": "bd406fa4-246b-4629-b2fe-ebdd0be73620",
   "metadata": {},
   "outputs": [
    {
     "data": {
      "text/plain": [
       "array([10, 20, 30, 40, 50, 60])"
      ]
     },
     "execution_count": 102,
     "metadata": {},
     "output_type": "execute_result"
    }
   ],
   "source": [
    "numbers2 = np.arange(1, 7) * 10\n",
    "numbers2"
   ]
  },
  {
   "cell_type": "code",
   "execution_count": 99,
   "id": "d9d0e217-578f-44ae-bf0c-f933fc4ae8e4",
   "metadata": {},
   "outputs": [
    {
     "data": {
      "text/plain": [
       "array([11, 24, 39, 56, 75, 96])"
      ]
     },
     "execution_count": 99,
     "metadata": {},
     "output_type": "execute_result"
    }
   ],
   "source": [
    "np.add(numbers, numbers2)"
   ]
  },
  {
   "cell_type": "code",
   "execution_count": 100,
   "id": "a5bb4665-0102-4615-b8f9-0c36f93173ec",
   "metadata": {},
   "outputs": [
    {
     "data": {
      "text/plain": [
       "array([ 50, 100, 150, 200, 250, 300])"
      ]
     },
     "execution_count": 100,
     "metadata": {},
     "output_type": "execute_result"
    }
   ],
   "source": [
    "#broadcasting with universal functions\n",
    "\n",
    "np.multiply(numbers2, 5)"
   ]
  },
  {
   "cell_type": "code",
   "execution_count": 103,
   "id": "010edfcd-b4c8-493b-ac4d-df048db797ae",
   "metadata": {},
   "outputs": [],
   "source": [
    "numbers3 = numbers2.reshape(2, 3)"
   ]
  },
  {
   "cell_type": "code",
   "execution_count": 104,
   "id": "c6254bfa-0d68-448f-bac2-b7cc54fa5807",
   "metadata": {},
   "outputs": [
    {
     "data": {
      "text/plain": [
       "array([[10, 20, 30],\n",
       "       [40, 50, 60]])"
      ]
     },
     "execution_count": 104,
     "metadata": {},
     "output_type": "execute_result"
    }
   ],
   "source": [
    "numbers3"
   ]
  },
  {
   "cell_type": "code",
   "execution_count": 105,
   "id": "dab39797-dd49-4dcd-9679-1b02ad13a57e",
   "metadata": {},
   "outputs": [
    {
     "data": {
      "text/plain": [
       "array([[ 20,  80, 180],\n",
       "       [ 80, 200, 360]])"
      ]
     },
     "execution_count": 105,
     "metadata": {},
     "output_type": "execute_result"
    }
   ],
   "source": [
    "numbers4 = np.array([2, 4, 6])\n",
    "\n",
    "np.multiply(numbers3, numbers4)"
   ]
  },
  {
   "cell_type": "markdown",
   "id": "39ca2435-9f40-4f27-b946-facdf922b945",
   "metadata": {
    "jp-MarkdownHeadingCollapsed": true,
    "tags": []
   },
   "source": [
    "other universal functions\n",
    "    *math - add, subract, multiply, divide, remainder, exp, log, sqrt, power, and more\n",
    "    *trig - sin, cos, tan, hypot, arcsin, arccos, arctan, and more\n",
    "    *bit manipulation - bitwise_and, bitwise_or, bitwise_xor, invert, left_shift, and right_shift\n",
    "    *comparison - >, >=, <, <=, =, !=, logical_and, logical_or, logical_xor, logical_not, min, max, and more\n",
    "    *floating point - floor, ceil, isinf, isnan, fabs, trunc, and more."
   ]
  },
  {
   "cell_type": "code",
   "execution_count": 106,
   "id": "470ce06f-0cda-46fb-8f07-840e0947666a",
   "metadata": {},
   "outputs": [
    {
     "data": {
      "text/plain": [
       "array([  1,   8,  27,  64, 125], dtype=int32)"
      ]
     },
     "execution_count": 106,
     "metadata": {},
     "output_type": "execute_result"
    }
   ],
   "source": [
    "numbers = np.arange(1, 6)\n",
    "\n",
    "np.power(numbers, 3)"
   ]
  },
  {
   "cell_type": "markdown",
   "id": "587acb9a-7005-4f1d-b357-8188aa942cb7",
   "metadata": {},
   "source": [
    "7.10 indexing and slicing"
   ]
  },
  {
   "cell_type": "code",
   "execution_count": 107,
   "id": "b30d509d-8100-441c-8af2-45d0fc13b7c2",
   "metadata": {},
   "outputs": [],
   "source": [
    "grades = np.array([[87, 96, 70], [100, 87, 90],\n",
    "                   [94, 77, 90], [100, 81, 82]])"
   ]
  },
  {
   "cell_type": "code",
   "execution_count": 108,
   "id": "13a7d5c4-d34f-4a68-a687-f102c3d440b9",
   "metadata": {},
   "outputs": [
    {
     "data": {
      "text/plain": [
       "array([[ 87,  96,  70],\n",
       "       [100,  87,  90],\n",
       "       [ 94,  77,  90],\n",
       "       [100,  81,  82]])"
      ]
     },
     "execution_count": 108,
     "metadata": {},
     "output_type": "execute_result"
    }
   ],
   "source": [
    "grades"
   ]
  },
  {
   "cell_type": "code",
   "execution_count": 109,
   "id": "643077cf-294e-443d-971c-275456ebd039",
   "metadata": {},
   "outputs": [
    {
     "data": {
      "text/plain": [
       "96"
      ]
     },
     "execution_count": 109,
     "metadata": {},
     "output_type": "execute_result"
    }
   ],
   "source": [
    "grades[0, 1] # row 0, column 1"
   ]
  },
  {
   "cell_type": "code",
   "execution_count": 110,
   "id": "8cc41fa2-4877-4135-af60-7f1c3e5ab16b",
   "metadata": {},
   "outputs": [
    {
     "data": {
      "text/plain": [
       "array([100,  87,  90])"
      ]
     },
     "execution_count": 110,
     "metadata": {},
     "output_type": "execute_result"
    }
   ],
   "source": [
    "grades[1]"
   ]
  },
  {
   "cell_type": "code",
   "execution_count": 111,
   "id": "970b1e7b-ca55-4e22-8c7a-99aeca54f976",
   "metadata": {},
   "outputs": [
    {
     "data": {
      "text/plain": [
       "87"
      ]
     },
     "execution_count": 111,
     "metadata": {},
     "output_type": "execute_result"
    }
   ],
   "source": [
    "grades[0, 0]"
   ]
  },
  {
   "cell_type": "code",
   "execution_count": 119,
   "id": "2b3ce164-e42d-4f58-a184-b9dffab46f7e",
   "metadata": {},
   "outputs": [
    {
     "data": {
      "text/plain": [
       "array([[ 87,  96,  70],\n",
       "       [100,  87,  90]])"
      ]
     },
     "execution_count": 119,
     "metadata": {},
     "output_type": "execute_result"
    }
   ],
   "source": [
    "grades[0:2] # selects 2 sequential rows starting at row 0"
   ]
  },
  {
   "cell_type": "code",
   "execution_count": 117,
   "id": "f2aa63fc-0989-4662-ae08-c7f1db7fdd49",
   "metadata": {},
   "outputs": [
    {
     "data": {
      "text/plain": [
       "array([[ 94,  77,  90],\n",
       "       [100,  81,  82]])"
      ]
     },
     "execution_count": 117,
     "metadata": {},
     "output_type": "execute_result"
    }
   ],
   "source": [
    "grades[2:4]"
   ]
  },
  {
   "cell_type": "code",
   "execution_count": 131,
   "id": "95043832-84e5-42e1-acfd-a1c96eba42d9",
   "metadata": {},
   "outputs": [
    {
     "data": {
      "text/plain": [
       "array([[100,  87,  90],\n",
       "       [100,  81,  82]])"
      ]
     },
     "execution_count": 131,
     "metadata": {},
     "output_type": "execute_result"
    }
   ],
   "source": [
    "grades[[1, 3]] #non-sequential"
   ]
  },
  {
   "cell_type": "code",
   "execution_count": 122,
   "id": "4ccd4529-6199-4f47-bd6d-125f4236581e",
   "metadata": {},
   "outputs": [
    {
     "data": {
      "text/plain": [
       "array([ 87, 100,  94, 100])"
      ]
     },
     "execution_count": 122,
     "metadata": {},
     "output_type": "execute_result"
    }
   ],
   "source": [
    "grades[:, 0] # all rows, column 0"
   ]
  },
  {
   "cell_type": "code",
   "execution_count": 123,
   "id": "afa410bf-b07a-461d-8550-272024512d3e",
   "metadata": {},
   "outputs": [
    {
     "data": {
      "text/plain": [
       "array([[96, 70],\n",
       "       [87, 90],\n",
       "       [77, 90],\n",
       "       [81, 82]])"
      ]
     },
     "execution_count": 123,
     "metadata": {},
     "output_type": "execute_result"
    }
   ],
   "source": [
    "grades[:, 1:3] # all rows, columns 1 & 2"
   ]
  },
  {
   "cell_type": "code",
   "execution_count": 124,
   "id": "2c97c2d7-de40-4147-aed7-d9c3d132d64a",
   "metadata": {},
   "outputs": [
    {
     "data": {
      "text/plain": [
       "array([[ 87,  70],\n",
       "       [100,  90],\n",
       "       [ 94,  90],\n",
       "       [100,  82]])"
      ]
     },
     "execution_count": 124,
     "metadata": {},
     "output_type": "execute_result"
    }
   ],
   "source": [
    "grades[:, [0, 2]] # all rows, columns 0 & 2"
   ]
  },
  {
   "cell_type": "code",
   "execution_count": 126,
   "id": "9393ffe1-4eac-4b8f-8842-4b40baae8e78",
   "metadata": {},
   "outputs": [],
   "source": [
    "kim = np.arange(1, 16).reshape(3, 5)"
   ]
  },
  {
   "cell_type": "code",
   "execution_count": 127,
   "id": "2ae9ec58-1725-44b2-bd58-434e848687a6",
   "metadata": {},
   "outputs": [
    {
     "data": {
      "text/plain": [
       "array([[ 1,  2,  3,  4,  5],\n",
       "       [ 6,  7,  8,  9, 10],\n",
       "       [11, 12, 13, 14, 15]])"
      ]
     },
     "execution_count": 127,
     "metadata": {},
     "output_type": "execute_result"
    }
   ],
   "source": [
    "kim"
   ]
  },
  {
   "cell_type": "code",
   "execution_count": 128,
   "id": "d659918e-72ff-4c81-8255-32c7bf5202e0",
   "metadata": {},
   "outputs": [
    {
     "data": {
      "text/plain": [
       "array([ 6,  7,  8,  9, 10])"
      ]
     },
     "execution_count": 128,
     "metadata": {},
     "output_type": "execute_result"
    }
   ],
   "source": [
    "kim[1]"
   ]
  },
  {
   "cell_type": "code",
   "execution_count": 133,
   "id": "fbd4561a-fd22-4b80-bdf7-b20efa05c4ec",
   "metadata": {},
   "outputs": [
    {
     "data": {
      "text/plain": [
       "array([[ 1,  2,  3,  4,  5],\n",
       "       [11, 12, 13, 14, 15]])"
      ]
     },
     "execution_count": 133,
     "metadata": {},
     "output_type": "execute_result"
    }
   ],
   "source": [
    "kim[[0, 2]] #non-sequential"
   ]
  },
  {
   "cell_type": "code",
   "execution_count": 136,
   "id": "121fd000-00d6-488e-a796-ad7191d58530",
   "metadata": {},
   "outputs": [
    {
     "data": {
      "text/plain": [
       "array([[ 2,  3,  4],\n",
       "       [ 7,  8,  9],\n",
       "       [12, 13, 14]])"
      ]
     },
     "execution_count": 136,
     "metadata": {},
     "output_type": "execute_result"
    }
   ],
   "source": [
    "kim[:, 1:4]"
   ]
  },
  {
   "cell_type": "markdown",
   "id": "cb08be06-cd50-4626-999a-e5353fda653f",
   "metadata": {},
   "source": [
    "7.14 views: shallow copies"
   ]
  },
  {
   "cell_type": "code",
   "execution_count": 138,
   "id": "493d3e35-a7cb-425d-becf-a2f6a7e561a8",
   "metadata": {},
   "outputs": [
    {
     "data": {
      "text/plain": [
       "array([1, 2, 3, 4, 5])"
      ]
     },
     "execution_count": 138,
     "metadata": {},
     "output_type": "execute_result"
    }
   ],
   "source": [
    "numbers = np.arange(1,6)\n",
    "numbers"
   ]
  },
  {
   "cell_type": "code",
   "execution_count": 139,
   "id": "c07a1496-bbbc-456a-926a-36b1e8aade32",
   "metadata": {},
   "outputs": [],
   "source": [
    "numbers2 = numbers.view()"
   ]
  },
  {
   "cell_type": "code",
   "execution_count": 140,
   "id": "a6bf5e6c-e894-4d19-89a7-7bdc9365b297",
   "metadata": {},
   "outputs": [
    {
     "data": {
      "text/plain": [
       "array([1, 2, 3, 4, 5])"
      ]
     },
     "execution_count": 140,
     "metadata": {},
     "output_type": "execute_result"
    }
   ],
   "source": [
    "numbers2"
   ]
  },
  {
   "cell_type": "code",
   "execution_count": 141,
   "id": "0d7859ca-d576-467d-8408-63f6d5fb7434",
   "metadata": {},
   "outputs": [
    {
     "data": {
      "text/plain": [
       "1979497390992"
      ]
     },
     "execution_count": 141,
     "metadata": {},
     "output_type": "execute_result"
    }
   ],
   "source": [
    "id(numbers)"
   ]
  },
  {
   "cell_type": "code",
   "execution_count": 142,
   "id": "b8f22c1e-1fe2-428e-9737-32f4ff405021",
   "metadata": {},
   "outputs": [
    {
     "data": {
      "text/plain": [
       "1979497015504"
      ]
     },
     "execution_count": 142,
     "metadata": {},
     "output_type": "execute_result"
    }
   ],
   "source": [
    "id(numbers2)"
   ]
  },
  {
   "cell_type": "code",
   "execution_count": 143,
   "id": "2f3116d9-398f-4d98-ba5f-d457766b1d64",
   "metadata": {},
   "outputs": [],
   "source": [
    "numbers[1] *= 10"
   ]
  },
  {
   "cell_type": "code",
   "execution_count": 144,
   "id": "34bbee8d-fc54-4b34-a45e-ab0a19d6c7f0",
   "metadata": {},
   "outputs": [
    {
     "data": {
      "text/plain": [
       "array([ 1, 20,  3,  4,  5])"
      ]
     },
     "execution_count": 144,
     "metadata": {},
     "output_type": "execute_result"
    }
   ],
   "source": [
    "numbers2"
   ]
  },
  {
   "cell_type": "code",
   "execution_count": 145,
   "id": "d7b0e006-a093-4d79-a06d-da7c5118c215",
   "metadata": {},
   "outputs": [
    {
     "data": {
      "text/plain": [
       "array([ 1, 20,  3,  4,  5])"
      ]
     },
     "execution_count": 145,
     "metadata": {},
     "output_type": "execute_result"
    }
   ],
   "source": [
    "numbers"
   ]
  },
  {
   "cell_type": "code",
   "execution_count": 146,
   "id": "af94b40e-6b7f-48d7-9cca-63ea6a62f131",
   "metadata": {},
   "outputs": [],
   "source": [
    "numbers2[1] /= 10"
   ]
  },
  {
   "cell_type": "code",
   "execution_count": 147,
   "id": "f338fc2a-6c0c-4029-9692-06cd8708486c",
   "metadata": {},
   "outputs": [
    {
     "data": {
      "text/plain": [
       "array([1, 2, 3, 4, 5])"
      ]
     },
     "execution_count": 147,
     "metadata": {},
     "output_type": "execute_result"
    }
   ],
   "source": [
    "numbers"
   ]
  },
  {
   "cell_type": "code",
   "execution_count": 148,
   "id": "93f8a244-3fb5-4447-8cbb-83e520124caa",
   "metadata": {},
   "outputs": [
    {
     "data": {
      "text/plain": [
       "array([1, 2, 3, 4, 5])"
      ]
     },
     "execution_count": 148,
     "metadata": {},
     "output_type": "execute_result"
    }
   ],
   "source": [
    "numbers2"
   ]
  },
  {
   "cell_type": "code",
   "execution_count": 150,
   "id": "ec30f604-176a-4132-adf5-dbb2cb33b5c9",
   "metadata": {},
   "outputs": [
    {
     "data": {
      "text/plain": [
       "array([1, 2, 3])"
      ]
     },
     "execution_count": 150,
     "metadata": {},
     "output_type": "execute_result"
    }
   ],
   "source": [
    "numbers2 = numbers[0:3]\n",
    "numbers2"
   ]
  },
  {
   "cell_type": "code",
   "execution_count": 151,
   "id": "0c66b5c7-3ee1-4791-b1d1-5c929e4a4594",
   "metadata": {},
   "outputs": [
    {
     "data": {
      "text/plain": [
       "1979497390992"
      ]
     },
     "execution_count": 151,
     "metadata": {},
     "output_type": "execute_result"
    }
   ],
   "source": [
    "id(numbers)"
   ]
  },
  {
   "cell_type": "code",
   "execution_count": 152,
   "id": "fb841188-6f70-4158-bfbf-be9451367ecd",
   "metadata": {},
   "outputs": [
    {
     "data": {
      "text/plain": [
       "1979497391568"
      ]
     },
     "execution_count": 152,
     "metadata": {},
     "output_type": "execute_result"
    }
   ],
   "source": [
    "id(numbers2)"
   ]
  },
  {
   "cell_type": "code",
   "execution_count": 153,
   "id": "56be1a73-bb14-4f33-82e0-544b5ae5f11a",
   "metadata": {},
   "outputs": [
    {
     "data": {
      "text/plain": [
       "array([ 1, 40,  3,  4,  5])"
      ]
     },
     "execution_count": 153,
     "metadata": {},
     "output_type": "execute_result"
    }
   ],
   "source": [
    "numbers[1] *= 20\n",
    "numbers"
   ]
  },
  {
   "cell_type": "code",
   "execution_count": 154,
   "id": "5af3594f-b18a-4293-974f-80e23bded3b0",
   "metadata": {},
   "outputs": [
    {
     "data": {
      "text/plain": [
       "array([ 1, 40,  3])"
      ]
     },
     "execution_count": 154,
     "metadata": {},
     "output_type": "execute_result"
    }
   ],
   "source": [
    "numbers2"
   ]
  },
  {
   "cell_type": "markdown",
   "id": "df083090-be84-4f7e-8af2-3dd5fde326da",
   "metadata": {},
   "source": [
    "7.12 deep copies"
   ]
  },
  {
   "cell_type": "code",
   "execution_count": 155,
   "id": "84f72677-3d50-412f-ba8e-ec0403225b30",
   "metadata": {},
   "outputs": [
    {
     "data": {
      "text/plain": [
       "array([1, 2, 3, 4, 5])"
      ]
     },
     "execution_count": 155,
     "metadata": {},
     "output_type": "execute_result"
    }
   ],
   "source": [
    "numbers = np.arange(1, 6)\n",
    "numbers"
   ]
  },
  {
   "cell_type": "code",
   "execution_count": 156,
   "id": "0b14ca00-cd12-40ca-a4de-0ea4b137040f",
   "metadata": {},
   "outputs": [
    {
     "data": {
      "text/plain": [
       "array([1, 2, 3, 4, 5])"
      ]
     },
     "execution_count": 156,
     "metadata": {},
     "output_type": "execute_result"
    }
   ],
   "source": [
    "numbers2 = numbers.copy()\n",
    "numbers2"
   ]
  },
  {
   "cell_type": "code",
   "execution_count": 157,
   "id": "4b7021bc-32f2-4fa8-8d83-aaf3267905b0",
   "metadata": {},
   "outputs": [],
   "source": [
    "numbers[1] *= 10"
   ]
  },
  {
   "cell_type": "code",
   "execution_count": 158,
   "id": "8b143d3f-ee8b-4521-a498-10efdea6253d",
   "metadata": {},
   "outputs": [
    {
     "data": {
      "text/plain": [
       "array([ 1, 20,  3,  4,  5])"
      ]
     },
     "execution_count": 158,
     "metadata": {},
     "output_type": "execute_result"
    }
   ],
   "source": [
    "numbers"
   ]
  },
  {
   "cell_type": "code",
   "execution_count": 159,
   "id": "aa5d3400-c865-4f5f-b7d5-381c5e4adcf4",
   "metadata": {},
   "outputs": [
    {
     "data": {
      "text/plain": [
       "array([1, 2, 3, 4, 5])"
      ]
     },
     "execution_count": 159,
     "metadata": {},
     "output_type": "execute_result"
    }
   ],
   "source": [
    "numbers2"
   ]
  },
  {
   "cell_type": "markdown",
   "id": "85971d81-b701-4991-9b09-5371339bda22",
   "metadata": {},
   "source": [
    "7.13 Reshaping and transposing"
   ]
  },
  {
   "cell_type": "code",
   "execution_count": 160,
   "id": "712709b5-aaec-44cc-b388-6d1967cade1b",
   "metadata": {},
   "outputs": [
    {
     "data": {
      "text/plain": [
       "array([[ 87,  96,  70],\n",
       "       [100,  87,  90]])"
      ]
     },
     "execution_count": 160,
     "metadata": {},
     "output_type": "execute_result"
    }
   ],
   "source": [
    "# reshape vs resize - both change an array's dimensions, reshape returns a view, does not modify the original\n",
    "\n",
    "grades = np.array([[87, 96, 70], [100, 87, 90]])\n",
    "grades"
   ]
  },
  {
   "cell_type": "code",
   "execution_count": 161,
   "id": "361c0991-bff6-4a02-9853-05a803deb702",
   "metadata": {},
   "outputs": [
    {
     "data": {
      "text/plain": [
       "array([[ 87,  96,  70, 100,  87,  90]])"
      ]
     },
     "execution_count": 161,
     "metadata": {},
     "output_type": "execute_result"
    }
   ],
   "source": [
    "grades.reshape(1,6)"
   ]
  },
  {
   "cell_type": "code",
   "execution_count": 162,
   "id": "73bf3a57-aa29-474a-9526-017113b1bc66",
   "metadata": {},
   "outputs": [
    {
     "data": {
      "text/plain": [
       "array([[ 87,  96,  70],\n",
       "       [100,  87,  90]])"
      ]
     },
     "execution_count": 162,
     "metadata": {},
     "output_type": "execute_result"
    }
   ],
   "source": [
    "grades"
   ]
  },
  {
   "cell_type": "code",
   "execution_count": 163,
   "id": "080fec8b-65e0-4a80-bad6-c4478874e0b7",
   "metadata": {},
   "outputs": [
    {
     "data": {
      "text/plain": [
       "array([[ 87,  96,  70, 100,  87,  90]])"
      ]
     },
     "execution_count": 163,
     "metadata": {},
     "output_type": "execute_result"
    }
   ],
   "source": [
    "# resize modiefies the original array's shape\n",
    "grades.resize(1, 6)\n",
    "grades"
   ]
  },
  {
   "cell_type": "code",
   "execution_count": 164,
   "id": "8b5829dc-949e-4913-8ffc-b88f9af04ae8",
   "metadata": {},
   "outputs": [
    {
     "data": {
      "text/plain": [
       "array([[ 87,  96,  70],\n",
       "       [100,  87,  90]])"
      ]
     },
     "execution_count": 164,
     "metadata": {},
     "output_type": "execute_result"
    }
   ],
   "source": [
    "# flatten vs. ravel - flatten multidimensional array into single dimension; flatten deep copies\n",
    "\n",
    "grades = np.array([[87, 96, 70], [100, 87, 90]])\n",
    "grades"
   ]
  },
  {
   "cell_type": "code",
   "execution_count": 166,
   "id": "cde15adf-fd5a-4589-9f1e-07dbc05de002",
   "metadata": {},
   "outputs": [
    {
     "data": {
      "text/plain": [
       "array([ 87,  96,  70, 100,  87,  90])"
      ]
     },
     "execution_count": 166,
     "metadata": {},
     "output_type": "execute_result"
    }
   ],
   "source": [
    "flattened = grades.flatten()\n",
    "flattened"
   ]
  },
  {
   "cell_type": "code",
   "execution_count": 167,
   "id": "6034899b-55eb-47bb-9570-3555a524de65",
   "metadata": {},
   "outputs": [
    {
     "data": {
      "text/plain": [
       "array([[ 87,  96,  70],\n",
       "       [100,  87,  90]])"
      ]
     },
     "execution_count": 167,
     "metadata": {},
     "output_type": "execute_result"
    }
   ],
   "source": [
    "grades"
   ]
  },
  {
   "cell_type": "code",
   "execution_count": 169,
   "id": "35c1a91d-6384-43ad-bde1-07871e516e33",
   "metadata": {},
   "outputs": [],
   "source": [
    "flattened[0] = 100"
   ]
  },
  {
   "cell_type": "code",
   "execution_count": 170,
   "id": "c2dbff8c-577b-418d-8578-77efd2b0a228",
   "metadata": {},
   "outputs": [
    {
     "data": {
      "text/plain": [
       "array([100,  96,  70, 100,  87,  90])"
      ]
     },
     "execution_count": 170,
     "metadata": {},
     "output_type": "execute_result"
    }
   ],
   "source": [
    "flattened"
   ]
  },
  {
   "cell_type": "code",
   "execution_count": 171,
   "id": "3c0544ce-a0b5-4770-960f-d74e64364a66",
   "metadata": {},
   "outputs": [
    {
     "data": {
      "text/plain": [
       "array([[ 87,  96,  70],\n",
       "       [100,  87,  90]])"
      ]
     },
     "execution_count": 171,
     "metadata": {},
     "output_type": "execute_result"
    }
   ],
   "source": [
    "grades"
   ]
  },
  {
   "cell_type": "code",
   "execution_count": 173,
   "id": "bb5051e1-f5f1-4963-b5b5-9bda28d0ede5",
   "metadata": {},
   "outputs": [
    {
     "data": {
      "text/plain": [
       "array([ 87,  96,  70, 100,  87,  90])"
      ]
     },
     "execution_count": 173,
     "metadata": {},
     "output_type": "execute_result"
    }
   ],
   "source": [
    "# ravel produces a view of the original array which shares the grades array's data\n",
    "\n",
    "raveled = grades.ravel()\n",
    "raveled"
   ]
  },
  {
   "cell_type": "code",
   "execution_count": 174,
   "id": "92b19513-ccd0-4b0a-b7ee-7c38fabc4f0d",
   "metadata": {},
   "outputs": [
    {
     "data": {
      "text/plain": [
       "array([[ 87,  96,  70],\n",
       "       [100,  87,  90]])"
      ]
     },
     "execution_count": 174,
     "metadata": {},
     "output_type": "execute_result"
    }
   ],
   "source": [
    "grades"
   ]
  },
  {
   "cell_type": "code",
   "execution_count": 175,
   "id": "ec7b1fe1-453c-49ab-87ea-1cc2b4abce44",
   "metadata": {},
   "outputs": [
    {
     "data": {
      "text/plain": [
       "array([100,  96,  70, 100,  87,  90])"
      ]
     },
     "execution_count": 175,
     "metadata": {},
     "output_type": "execute_result"
    }
   ],
   "source": [
    "raveled[0] = 100\n",
    "raveled"
   ]
  },
  {
   "cell_type": "code",
   "execution_count": 176,
   "id": "a6a9ebad-95cd-4b2c-809f-64ded3ce47b3",
   "metadata": {},
   "outputs": [
    {
     "data": {
      "text/plain": [
       "array([[100,  96,  70],\n",
       "       [100,  87,  90]])"
      ]
     },
     "execution_count": 176,
     "metadata": {},
     "output_type": "execute_result"
    }
   ],
   "source": [
    "grades"
   ]
  },
  {
   "cell_type": "code",
   "execution_count": null,
   "id": "49d591a1-ce23-495b-9b29-50448258a774",
   "metadata": {},
   "outputs": [],
   "source": [
    "# transposing rows and columns"
   ]
  },
  {
   "cell_type": "code",
   "execution_count": 178,
   "id": "cf893383-9414-4626-b20b-cba813701286",
   "metadata": {},
   "outputs": [
    {
     "data": {
      "text/plain": [
       "array([[100, 100],\n",
       "       [ 96,  87],\n",
       "       [ 70,  90]])"
      ]
     },
     "execution_count": 178,
     "metadata": {},
     "output_type": "execute_result"
    }
   ],
   "source": [
    "grades.T"
   ]
  },
  {
   "cell_type": "code",
   "execution_count": 179,
   "id": "97eba8d9-3a36-4288-8112-0884e865941b",
   "metadata": {},
   "outputs": [
    {
     "data": {
      "text/plain": [
       "array([[100,  96,  70],\n",
       "       [100,  87,  90]])"
      ]
     },
     "execution_count": 179,
     "metadata": {},
     "output_type": "execute_result"
    }
   ],
   "source": [
    "grades"
   ]
  },
  {
   "cell_type": "code",
   "execution_count": 180,
   "id": "e225a7c5-fb43-47eb-8bff-abbb94392cef",
   "metadata": {},
   "outputs": [
    {
     "data": {
      "text/plain": [
       "array([[ 94,  77,  90],\n",
       "       [100,  81,  82]])"
      ]
     },
     "execution_count": 180,
     "metadata": {},
     "output_type": "execute_result"
    }
   ],
   "source": [
    "#horizontal and vertical stacking\n",
    "grades2 = np.array([[94, 77, 90], [100, 81, 82]])\n",
    "grades2"
   ]
  },
  {
   "cell_type": "code",
   "execution_count": 181,
   "id": "20f4bc1d-d5c8-484b-a337-95f4f162302e",
   "metadata": {},
   "outputs": [
    {
     "data": {
      "text/plain": [
       "array([[100,  96,  70,  94,  77,  90],\n",
       "       [100,  87,  90, 100,  81,  82]])"
      ]
     },
     "execution_count": 181,
     "metadata": {},
     "output_type": "execute_result"
    }
   ],
   "source": [
    "np.hstack((grades, grades2))"
   ]
  },
  {
   "cell_type": "code",
   "execution_count": 182,
   "id": "513712cb-6337-479a-99a9-8ddcb2e98cef",
   "metadata": {},
   "outputs": [
    {
     "data": {
      "text/plain": [
       "array([[100,  96,  70],\n",
       "       [100,  87,  90],\n",
       "       [ 94,  77,  90],\n",
       "       [100,  81,  82]])"
      ]
     },
     "execution_count": 182,
     "metadata": {},
     "output_type": "execute_result"
    }
   ],
   "source": [
    "np.vstack((grades, grades2))"
   ]
  },
  {
   "cell_type": "code",
   "execution_count": 187,
   "id": "01782b26-daaf-46af-aa9b-faeeb6eadf88",
   "metadata": {},
   "outputs": [],
   "source": [
    "test = np.arange(1, 7).reshape(2, 3)"
   ]
  },
  {
   "cell_type": "code",
   "execution_count": 189,
   "id": "469a3aff-7025-4d2e-a22e-44ab6b54473a",
   "metadata": {},
   "outputs": [
    {
     "data": {
      "text/plain": [
       "array([[1, 2, 3, 1, 2, 3],\n",
       "       [4, 5, 6, 4, 5, 6]])"
      ]
     },
     "execution_count": 189,
     "metadata": {},
     "output_type": "execute_result"
    }
   ],
   "source": [
    "a = np.hstack((test, test))\n",
    "a"
   ]
  },
  {
   "cell_type": "code",
   "execution_count": 191,
   "id": "3507d8ee-1bbd-4213-9030-ed04bc6060a6",
   "metadata": {},
   "outputs": [
    {
     "data": {
      "text/plain": [
       "array([[1, 2, 3, 1, 2, 3],\n",
       "       [4, 5, 6, 4, 5, 6],\n",
       "       [1, 2, 3, 1, 2, 3],\n",
       "       [4, 5, 6, 4, 5, 6]])"
      ]
     },
     "execution_count": 191,
     "metadata": {},
     "output_type": "execute_result"
    }
   ],
   "source": [
    "b = np.vstack((a, a))\n",
    "b"
   ]
  }
 ],
 "metadata": {
  "kernelspec": {
   "display_name": "Python 3 (ipykernel)",
   "language": "python",
   "name": "python3"
  },
  "language_info": {
   "codemirror_mode": {
    "name": "ipython",
    "version": 3
   },
   "file_extension": ".py",
   "mimetype": "text/x-python",
   "name": "python",
   "nbconvert_exporter": "python",
   "pygments_lexer": "ipython3",
   "version": "3.9.12"
  }
 },
 "nbformat": 4,
 "nbformat_minor": 5
}
